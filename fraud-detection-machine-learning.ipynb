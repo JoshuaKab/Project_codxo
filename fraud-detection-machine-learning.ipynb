{
 "cells": [
  {
   "cell_type": "markdown",
   "id": "38498a14",
   "metadata": {
    "papermill": {
     "duration": 0.01997,
     "end_time": "2024-11-05T14:37:47.255126",
     "exception": false,
     "start_time": "2024-11-05T14:37:47.235156",
     "status": "completed"
    },
    "tags": []
   },
   "source": [
    "## Fraud Detection Project\n",
    "Autor: Joshua kab"
   ]
  },
  {
   "cell_type": "markdown",
   "id": "11d8f3ac",
   "metadata": {
    "papermill": {
     "duration": 0.017565,
     "end_time": "2024-11-05T14:37:47.290705",
     "exception": false,
     "start_time": "2024-11-05T14:37:47.273140",
     "status": "completed"
    },
    "tags": []
   },
   "source": [
    "Fraud detection using Machine learning Algorightme.\n",
    "\n",
    "This notebook I have indelve in this project to run an automated transaction processing to detects potentially fraudelant activity in the dataset."
   ]
  },
  {
   "cell_type": "markdown",
   "id": "1754388e",
   "metadata": {
    "papermill": {
     "duration": 0.017791,
     "end_time": "2024-11-05T14:37:47.326460",
     "exception": false,
     "start_time": "2024-11-05T14:37:47.308669",
     "status": "completed"
    },
    "tags": []
   },
   "source": [
    "###  Dataset info"
   ]
  },
  {
   "cell_type": "markdown",
   "id": "0d9b323e",
   "metadata": {
    "papermill": {
     "duration": 0.01814,
     "end_time": "2024-11-05T14:37:47.362799",
     "exception": false,
     "start_time": "2024-11-05T14:37:47.344659",
     "status": "completed"
    },
    "tags": []
   },
   "source": [
    "The datasets contains transactions made by credit cards in September 2013 by european cardholders. This dataset presents transactions that occurred in two days, where we have 492 frauds out of 284,807 transactions. The dataset is highly unbalanced, the positive class (frauds) account for 0.172% of the transactions and 99,8%   of the correct transaction.\n",
    "\n",
    "The datasets contains only numerical input variables which are the result of a PCA transformation.\n",
    "\n",
    "Due to confidentiality issues, there are not provided the original features and more background information about the data.\n",
    "\n",
    "* Features V1, V2, ... V28 are the principal components obtained with PCA;\n",
    "* The only features which have not been transformed with PCA are Time and Amount. Feature Time contains the seconds elapsed between each transaction and the first transaction in the dataset. The feature Amount is the transaction Amount, this feature can be used for example-dependant cost-senstive learning.\n",
    "* Feature Class is the response variable and it takes value 1 in case of fraud and 0 otherwise."
   ]
  },
  {
   "cell_type": "markdown",
   "id": "b0f5defd",
   "metadata": {
    "papermill": {
     "duration": 0.017667,
     "end_time": "2024-11-05T14:37:47.398181",
     "exception": false,
     "start_time": "2024-11-05T14:37:47.380514",
     "status": "completed"
    },
    "tags": []
   },
   "source": [
    "#### Loading python libraries"
   ]
  },
  {
   "cell_type": "code",
   "execution_count": 1,
   "id": "cb847bd0",
   "metadata": {
    "execution": {
     "iopub.execute_input": "2024-11-05T14:37:47.434495Z",
     "iopub.status.busy": "2024-11-05T14:37:47.434090Z",
     "iopub.status.idle": "2024-11-05T14:37:47.444092Z",
     "shell.execute_reply": "2024-11-05T14:37:47.443194Z"
    },
    "papermill": {
     "duration": 0.030415,
     "end_time": "2024-11-05T14:37:47.445996",
     "exception": false,
     "start_time": "2024-11-05T14:37:47.415581",
     "status": "completed"
    },
    "tags": []
   },
   "outputs": [],
   "source": [
    "def warn(*args, **kwargs):\n",
    "    pass\n",
    "import warnings\n",
    "warnings.warn = warn\n",
    "#surprice warning output"
   ]
  },
  {
   "cell_type": "code",
   "execution_count": 2,
   "id": "9eab805e",
   "metadata": {
    "execution": {
     "iopub.execute_input": "2024-11-05T14:37:47.482693Z",
     "iopub.status.busy": "2024-11-05T14:37:47.482149Z",
     "iopub.status.idle": "2024-11-05T14:37:50.103896Z",
     "shell.execute_reply": "2024-11-05T14:37:50.103102Z"
    },
    "papermill": {
     "duration": 2.642522,
     "end_time": "2024-11-05T14:37:50.106237",
     "exception": false,
     "start_time": "2024-11-05T14:37:47.463715",
     "status": "completed"
    },
    "tags": []
   },
   "outputs": [],
   "source": [
    "import pandas as pd\n",
    "import numpy as np\n",
    "import seaborn as sns\n",
    "import matplotlib.pyplot as plt\n",
    "from sklearn.model_selection import train_test_split,cross_val_score, GridSearchCV\n",
    "from sklearn.linear_model import LogisticRegressionCV\n",
    "from sklearn.tree import DecisionTreeClassifier\n",
    "from sklearn.ensemble import RandomForestClassifier\n",
    "from sklearn.metrics import confusion_matrix, accuracy_score, classification_report, f1_score\n",
    "from sklearn.preprocessing import StandardScaler\n",
    "from sklearn.pipeline import Pipeline\n"
   ]
  },
  {
   "cell_type": "markdown",
   "id": "b0e97a59",
   "metadata": {
    "papermill": {
     "duration": 0.017683,
     "end_time": "2024-11-05T14:37:50.141978",
     "exception": false,
     "start_time": "2024-11-05T14:37:50.124295",
     "status": "completed"
    },
    "tags": []
   },
   "source": [
    "### Read the dataset"
   ]
  },
  {
   "cell_type": "code",
   "execution_count": 3,
   "id": "22fd08f8",
   "metadata": {
    "execution": {
     "iopub.execute_input": "2024-11-05T14:37:50.178649Z",
     "iopub.status.busy": "2024-11-05T14:37:50.178213Z",
     "iopub.status.idle": "2024-11-05T14:37:53.743755Z",
     "shell.execute_reply": "2024-11-05T14:37:53.742723Z"
    },
    "papermill": {
     "duration": 3.586793,
     "end_time": "2024-11-05T14:37:53.746446",
     "exception": false,
     "start_time": "2024-11-05T14:37:50.159653",
     "status": "completed"
    },
    "tags": []
   },
   "outputs": [],
   "source": [
    "df = pd.read_csv(\"/kaggle/input/creditcardfraud/creditcard.csv\")"
   ]
  },
  {
   "cell_type": "markdown",
   "id": "09f2d129",
   "metadata": {
    "papermill": {
     "duration": 0.01728,
     "end_time": "2024-11-05T14:37:53.786528",
     "exception": false,
     "start_time": "2024-11-05T14:37:53.769248",
     "status": "completed"
    },
    "tags": []
   },
   "source": [
    "Overview of the dataset, the first 5 rows"
   ]
  },
  {
   "cell_type": "code",
   "execution_count": 4,
   "id": "356603f7",
   "metadata": {
    "execution": {
     "iopub.execute_input": "2024-11-05T14:37:53.824408Z",
     "iopub.status.busy": "2024-11-05T14:37:53.824062Z",
     "iopub.status.idle": "2024-11-05T14:37:53.857360Z",
     "shell.execute_reply": "2024-11-05T14:37:53.856469Z"
    },
    "papermill": {
     "duration": 0.053455,
     "end_time": "2024-11-05T14:37:53.859224",
     "exception": false,
     "start_time": "2024-11-05T14:37:53.805769",
     "status": "completed"
    },
    "tags": []
   },
   "outputs": [
    {
     "data": {
      "text/html": [
       "<div>\n",
       "<style scoped>\n",
       "    .dataframe tbody tr th:only-of-type {\n",
       "        vertical-align: middle;\n",
       "    }\n",
       "\n",
       "    .dataframe tbody tr th {\n",
       "        vertical-align: top;\n",
       "    }\n",
       "\n",
       "    .dataframe thead th {\n",
       "        text-align: right;\n",
       "    }\n",
       "</style>\n",
       "<table border=\"1\" class=\"dataframe\">\n",
       "  <thead>\n",
       "    <tr style=\"text-align: right;\">\n",
       "      <th></th>\n",
       "      <th>Time</th>\n",
       "      <th>V1</th>\n",
       "      <th>V2</th>\n",
       "      <th>V3</th>\n",
       "      <th>V4</th>\n",
       "      <th>V5</th>\n",
       "      <th>V6</th>\n",
       "      <th>V7</th>\n",
       "      <th>V8</th>\n",
       "      <th>V9</th>\n",
       "      <th>...</th>\n",
       "      <th>V21</th>\n",
       "      <th>V22</th>\n",
       "      <th>V23</th>\n",
       "      <th>V24</th>\n",
       "      <th>V25</th>\n",
       "      <th>V26</th>\n",
       "      <th>V27</th>\n",
       "      <th>V28</th>\n",
       "      <th>Amount</th>\n",
       "      <th>Class</th>\n",
       "    </tr>\n",
       "  </thead>\n",
       "  <tbody>\n",
       "    <tr>\n",
       "      <th>0</th>\n",
       "      <td>0.0</td>\n",
       "      <td>-1.359807</td>\n",
       "      <td>-0.072781</td>\n",
       "      <td>2.536347</td>\n",
       "      <td>1.378155</td>\n",
       "      <td>-0.338321</td>\n",
       "      <td>0.462388</td>\n",
       "      <td>0.239599</td>\n",
       "      <td>0.098698</td>\n",
       "      <td>0.363787</td>\n",
       "      <td>...</td>\n",
       "      <td>-0.018307</td>\n",
       "      <td>0.277838</td>\n",
       "      <td>-0.110474</td>\n",
       "      <td>0.066928</td>\n",
       "      <td>0.128539</td>\n",
       "      <td>-0.189115</td>\n",
       "      <td>0.133558</td>\n",
       "      <td>-0.021053</td>\n",
       "      <td>149.62</td>\n",
       "      <td>0</td>\n",
       "    </tr>\n",
       "    <tr>\n",
       "      <th>1</th>\n",
       "      <td>0.0</td>\n",
       "      <td>1.191857</td>\n",
       "      <td>0.266151</td>\n",
       "      <td>0.166480</td>\n",
       "      <td>0.448154</td>\n",
       "      <td>0.060018</td>\n",
       "      <td>-0.082361</td>\n",
       "      <td>-0.078803</td>\n",
       "      <td>0.085102</td>\n",
       "      <td>-0.255425</td>\n",
       "      <td>...</td>\n",
       "      <td>-0.225775</td>\n",
       "      <td>-0.638672</td>\n",
       "      <td>0.101288</td>\n",
       "      <td>-0.339846</td>\n",
       "      <td>0.167170</td>\n",
       "      <td>0.125895</td>\n",
       "      <td>-0.008983</td>\n",
       "      <td>0.014724</td>\n",
       "      <td>2.69</td>\n",
       "      <td>0</td>\n",
       "    </tr>\n",
       "    <tr>\n",
       "      <th>2</th>\n",
       "      <td>1.0</td>\n",
       "      <td>-1.358354</td>\n",
       "      <td>-1.340163</td>\n",
       "      <td>1.773209</td>\n",
       "      <td>0.379780</td>\n",
       "      <td>-0.503198</td>\n",
       "      <td>1.800499</td>\n",
       "      <td>0.791461</td>\n",
       "      <td>0.247676</td>\n",
       "      <td>-1.514654</td>\n",
       "      <td>...</td>\n",
       "      <td>0.247998</td>\n",
       "      <td>0.771679</td>\n",
       "      <td>0.909412</td>\n",
       "      <td>-0.689281</td>\n",
       "      <td>-0.327642</td>\n",
       "      <td>-0.139097</td>\n",
       "      <td>-0.055353</td>\n",
       "      <td>-0.059752</td>\n",
       "      <td>378.66</td>\n",
       "      <td>0</td>\n",
       "    </tr>\n",
       "    <tr>\n",
       "      <th>3</th>\n",
       "      <td>1.0</td>\n",
       "      <td>-0.966272</td>\n",
       "      <td>-0.185226</td>\n",
       "      <td>1.792993</td>\n",
       "      <td>-0.863291</td>\n",
       "      <td>-0.010309</td>\n",
       "      <td>1.247203</td>\n",
       "      <td>0.237609</td>\n",
       "      <td>0.377436</td>\n",
       "      <td>-1.387024</td>\n",
       "      <td>...</td>\n",
       "      <td>-0.108300</td>\n",
       "      <td>0.005274</td>\n",
       "      <td>-0.190321</td>\n",
       "      <td>-1.175575</td>\n",
       "      <td>0.647376</td>\n",
       "      <td>-0.221929</td>\n",
       "      <td>0.062723</td>\n",
       "      <td>0.061458</td>\n",
       "      <td>123.50</td>\n",
       "      <td>0</td>\n",
       "    </tr>\n",
       "    <tr>\n",
       "      <th>4</th>\n",
       "      <td>2.0</td>\n",
       "      <td>-1.158233</td>\n",
       "      <td>0.877737</td>\n",
       "      <td>1.548718</td>\n",
       "      <td>0.403034</td>\n",
       "      <td>-0.407193</td>\n",
       "      <td>0.095921</td>\n",
       "      <td>0.592941</td>\n",
       "      <td>-0.270533</td>\n",
       "      <td>0.817739</td>\n",
       "      <td>...</td>\n",
       "      <td>-0.009431</td>\n",
       "      <td>0.798278</td>\n",
       "      <td>-0.137458</td>\n",
       "      <td>0.141267</td>\n",
       "      <td>-0.206010</td>\n",
       "      <td>0.502292</td>\n",
       "      <td>0.219422</td>\n",
       "      <td>0.215153</td>\n",
       "      <td>69.99</td>\n",
       "      <td>0</td>\n",
       "    </tr>\n",
       "  </tbody>\n",
       "</table>\n",
       "<p>5 rows × 31 columns</p>\n",
       "</div>"
      ],
      "text/plain": [
       "   Time        V1        V2        V3        V4        V5        V6        V7  \\\n",
       "0   0.0 -1.359807 -0.072781  2.536347  1.378155 -0.338321  0.462388  0.239599   \n",
       "1   0.0  1.191857  0.266151  0.166480  0.448154  0.060018 -0.082361 -0.078803   \n",
       "2   1.0 -1.358354 -1.340163  1.773209  0.379780 -0.503198  1.800499  0.791461   \n",
       "3   1.0 -0.966272 -0.185226  1.792993 -0.863291 -0.010309  1.247203  0.237609   \n",
       "4   2.0 -1.158233  0.877737  1.548718  0.403034 -0.407193  0.095921  0.592941   \n",
       "\n",
       "         V8        V9  ...       V21       V22       V23       V24       V25  \\\n",
       "0  0.098698  0.363787  ... -0.018307  0.277838 -0.110474  0.066928  0.128539   \n",
       "1  0.085102 -0.255425  ... -0.225775 -0.638672  0.101288 -0.339846  0.167170   \n",
       "2  0.247676 -1.514654  ...  0.247998  0.771679  0.909412 -0.689281 -0.327642   \n",
       "3  0.377436 -1.387024  ... -0.108300  0.005274 -0.190321 -1.175575  0.647376   \n",
       "4 -0.270533  0.817739  ... -0.009431  0.798278 -0.137458  0.141267 -0.206010   \n",
       "\n",
       "        V26       V27       V28  Amount  Class  \n",
       "0 -0.189115  0.133558 -0.021053  149.62      0  \n",
       "1  0.125895 -0.008983  0.014724    2.69      0  \n",
       "2 -0.139097 -0.055353 -0.059752  378.66      0  \n",
       "3 -0.221929  0.062723  0.061458  123.50      0  \n",
       "4  0.502292  0.219422  0.215153   69.99      0  \n",
       "\n",
       "[5 rows x 31 columns]"
      ]
     },
     "execution_count": 4,
     "metadata": {},
     "output_type": "execute_result"
    }
   ],
   "source": [
    "df.head()"
   ]
  },
  {
   "cell_type": "markdown",
   "id": "ccb3e23f",
   "metadata": {
    "papermill": {
     "duration": 0.017652,
     "end_time": "2024-11-05T14:37:53.896109",
     "exception": false,
     "start_time": "2024-11-05T14:37:53.878457",
     "status": "completed"
    },
    "tags": []
   },
   "source": [
    "The dataset contains on numeric values"
   ]
  },
  {
   "cell_type": "markdown",
   "id": "f7a791bf",
   "metadata": {
    "papermill": {
     "duration": 0.017777,
     "end_time": "2024-11-05T14:37:53.931526",
     "exception": false,
     "start_time": "2024-11-05T14:37:53.913749",
     "status": "completed"
    },
    "tags": []
   },
   "source": [
    "Data type informations "
   ]
  },
  {
   "cell_type": "code",
   "execution_count": 5,
   "id": "7fbc5686",
   "metadata": {
    "execution": {
     "iopub.execute_input": "2024-11-05T14:37:53.968172Z",
     "iopub.status.busy": "2024-11-05T14:37:53.967857Z",
     "iopub.status.idle": "2024-11-05T14:37:54.005653Z",
     "shell.execute_reply": "2024-11-05T14:37:54.004463Z"
    },
    "papermill": {
     "duration": 0.058491,
     "end_time": "2024-11-05T14:37:54.007715",
     "exception": false,
     "start_time": "2024-11-05T14:37:53.949224",
     "status": "completed"
    },
    "tags": []
   },
   "outputs": [
    {
     "name": "stdout",
     "output_type": "stream",
     "text": [
      "<class 'pandas.core.frame.DataFrame'>\n",
      "RangeIndex: 284807 entries, 0 to 284806\n",
      "Data columns (total 31 columns):\n",
      " #   Column  Non-Null Count   Dtype  \n",
      "---  ------  --------------   -----  \n",
      " 0   Time    284807 non-null  float64\n",
      " 1   V1      284807 non-null  float64\n",
      " 2   V2      284807 non-null  float64\n",
      " 3   V3      284807 non-null  float64\n",
      " 4   V4      284807 non-null  float64\n",
      " 5   V5      284807 non-null  float64\n",
      " 6   V6      284807 non-null  float64\n",
      " 7   V7      284807 non-null  float64\n",
      " 8   V8      284807 non-null  float64\n",
      " 9   V9      284807 non-null  float64\n",
      " 10  V10     284807 non-null  float64\n",
      " 11  V11     284807 non-null  float64\n",
      " 12  V12     284807 non-null  float64\n",
      " 13  V13     284807 non-null  float64\n",
      " 14  V14     284807 non-null  float64\n",
      " 15  V15     284807 non-null  float64\n",
      " 16  V16     284807 non-null  float64\n",
      " 17  V17     284807 non-null  float64\n",
      " 18  V18     284807 non-null  float64\n",
      " 19  V19     284807 non-null  float64\n",
      " 20  V20     284807 non-null  float64\n",
      " 21  V21     284807 non-null  float64\n",
      " 22  V22     284807 non-null  float64\n",
      " 23  V23     284807 non-null  float64\n",
      " 24  V24     284807 non-null  float64\n",
      " 25  V25     284807 non-null  float64\n",
      " 26  V26     284807 non-null  float64\n",
      " 27  V27     284807 non-null  float64\n",
      " 28  V28     284807 non-null  float64\n",
      " 29  Amount  284807 non-null  float64\n",
      " 30  Class   284807 non-null  int64  \n",
      "dtypes: float64(30), int64(1)\n",
      "memory usage: 67.4 MB\n"
     ]
    }
   ],
   "source": [
    "df.info()"
   ]
  },
  {
   "cell_type": "markdown",
   "id": "ecd29ba6",
   "metadata": {
    "papermill": {
     "duration": 0.017674,
     "end_time": "2024-11-05T14:37:54.043829",
     "exception": false,
     "start_time": "2024-11-05T14:37:54.026155",
     "status": "completed"
    },
    "tags": []
   },
   "source": [
    "The above result the dataset does not have a null values in all the features columns\n"
   ]
  },
  {
   "cell_type": "code",
   "execution_count": 6,
   "id": "eecf6001",
   "metadata": {
    "execution": {
     "iopub.execute_input": "2024-11-05T14:37:54.080590Z",
     "iopub.status.busy": "2024-11-05T14:37:54.080258Z",
     "iopub.status.idle": "2024-11-05T14:37:54.321124Z",
     "shell.execute_reply": "2024-11-05T14:37:54.320280Z"
    },
    "papermill": {
     "duration": 0.261479,
     "end_time": "2024-11-05T14:37:54.323121",
     "exception": false,
     "start_time": "2024-11-05T14:37:54.061642",
     "status": "completed"
    },
    "tags": []
   },
   "outputs": [
    {
     "name": "stdout",
     "output_type": "stream",
     "text": [
      "Class\n",
      "0    0.998273\n",
      "1    0.001727\n",
      "Name: proportion, dtype: float64\n"
     ]
    },
    {
     "data": {
      "image/png": "[encoded data removed]",
      "text/plain": [
       "<Figure size 640x480 with 1 Axes>"
      ]
     },
     "metadata": {},
     "output_type": "display_data"
    }
   ],
   "source": [
    "temp = df['Class'].value_counts(normalize=True)\n",
    "temp_df = pd.DataFrame({'Class': temp.index,'values': temp.values})\n",
    "#viz\n",
    "sns.color_palette(\"flare\", as_cmap=True)\n",
    "sns.barplot(temp_df, x='Class', y='values')\n",
    "print(temp)"
   ]
  },
  {
   "cell_type": "markdown",
   "id": "3e368898",
   "metadata": {
    "papermill": {
     "duration": 0.018109,
     "end_time": "2024-11-05T14:37:54.359767",
     "exception": false,
     "start_time": "2024-11-05T14:37:54.341658",
     "status": "completed"
    },
    "tags": []
   },
   "source": [
    "Only 492 (or 0.172%) of transaction are fraudulent. That means the data is highly unbalanced in respect with target variable Class."
   ]
  },
  {
   "cell_type": "markdown",
   "id": "353b5313",
   "metadata": {
    "papermill": {
     "duration": 0.018061,
     "end_time": "2024-11-05T14:37:54.396097",
     "exception": false,
     "start_time": "2024-11-05T14:37:54.378036",
     "status": "completed"
    },
    "tags": []
   },
   "source": [
    "#### Imbalanced dataset\n",
    "An imbalanced dataset means the number of the majority class is much more than the minority class"
   ]
  },
  {
   "cell_type": "code",
   "execution_count": 7,
   "id": "5a773763",
   "metadata": {
    "execution": {
     "iopub.execute_input": "2024-11-05T14:37:54.434188Z",
     "iopub.status.busy": "2024-11-05T14:37:54.433904Z",
     "iopub.status.idle": "2024-11-05T14:37:54.465195Z",
     "shell.execute_reply": "2024-11-05T14:37:54.464316Z"
    },
    "papermill": {
     "duration": 0.052878,
     "end_time": "2024-11-05T14:37:54.467108",
     "exception": false,
     "start_time": "2024-11-05T14:37:54.414230",
     "status": "completed"
    },
    "tags": []
   },
   "outputs": [
    {
     "data": {
      "text/html": [
       "<div>\n",
       "<style scoped>\n",
       "    .dataframe tbody tr th:only-of-type {\n",
       "        vertical-align: middle;\n",
       "    }\n",
       "\n",
       "    .dataframe tbody tr th {\n",
       "        vertical-align: top;\n",
       "    }\n",
       "\n",
       "    .dataframe thead th {\n",
       "        text-align: right;\n",
       "    }\n",
       "</style>\n",
       "<table border=\"1\" class=\"dataframe\">\n",
       "  <thead>\n",
       "    <tr style=\"text-align: right;\">\n",
       "      <th></th>\n",
       "      <th>Time</th>\n",
       "      <th>Amount</th>\n",
       "    </tr>\n",
       "  </thead>\n",
       "  <tbody>\n",
       "    <tr>\n",
       "      <th>count</th>\n",
       "      <td>284807.000000</td>\n",
       "      <td>284807.000000</td>\n",
       "    </tr>\n",
       "    <tr>\n",
       "      <th>mean</th>\n",
       "      <td>94813.859575</td>\n",
       "      <td>88.349619</td>\n",
       "    </tr>\n",
       "    <tr>\n",
       "      <th>std</th>\n",
       "      <td>47488.145955</td>\n",
       "      <td>250.120109</td>\n",
       "    </tr>\n",
       "    <tr>\n",
       "      <th>min</th>\n",
       "      <td>0.000000</td>\n",
       "      <td>0.000000</td>\n",
       "    </tr>\n",
       "    <tr>\n",
       "      <th>25%</th>\n",
       "      <td>54201.500000</td>\n",
       "      <td>5.600000</td>\n",
       "    </tr>\n",
       "    <tr>\n",
       "      <th>50%</th>\n",
       "      <td>84692.000000</td>\n",
       "      <td>22.000000</td>\n",
       "    </tr>\n",
       "    <tr>\n",
       "      <th>75%</th>\n",
       "      <td>139320.500000</td>\n",
       "      <td>77.165000</td>\n",
       "    </tr>\n",
       "    <tr>\n",
       "      <th>max</th>\n",
       "      <td>172792.000000</td>\n",
       "      <td>25691.160000</td>\n",
       "    </tr>\n",
       "  </tbody>\n",
       "</table>\n",
       "</div>"
      ],
      "text/plain": [
       "                Time         Amount\n",
       "count  284807.000000  284807.000000\n",
       "mean    94813.859575      88.349619\n",
       "std     47488.145955     250.120109\n",
       "min         0.000000       0.000000\n",
       "25%     54201.500000       5.600000\n",
       "50%     84692.000000      22.000000\n",
       "75%    139320.500000      77.165000\n",
       "max    172792.000000   25691.160000"
      ]
     },
     "execution_count": 7,
     "metadata": {},
     "output_type": "execute_result"
    }
   ],
   "source": [
    "feature_cols = df.columns[:-1]\n",
    "df[['Time','Amount']].describe()"
   ]
  },
  {
   "cell_type": "markdown",
   "id": "1d374b86",
   "metadata": {
    "papermill": {
     "duration": 0.018599,
     "end_time": "2024-11-05T14:37:54.504525",
     "exception": false,
     "start_time": "2024-11-05T14:37:54.485926",
     "status": "completed"
    },
    "tags": []
   },
   "source": [
    "In the above result we can confirmed the numbers of transactions **284807** happend during 2 days or **172792** seconds"
   ]
  },
  {
   "cell_type": "markdown",
   "id": "b6d8c132",
   "metadata": {
    "papermill": {
     "duration": 0.019109,
     "end_time": "2024-11-05T14:37:54.542391",
     "exception": false,
     "start_time": "2024-11-05T14:37:54.523282",
     "status": "completed"
    },
    "tags": []
   },
   "source": [
    "Let's dig deeper in the amount feature"
   ]
  },
  {
   "cell_type": "code",
   "execution_count": 8,
   "id": "887bdc78",
   "metadata": {
    "execution": {
     "iopub.execute_input": "2024-11-05T14:37:54.581983Z",
     "iopub.status.busy": "2024-11-05T14:37:54.581609Z",
     "iopub.status.idle": "2024-11-05T14:37:55.182557Z",
     "shell.execute_reply": "2024-11-05T14:37:55.181690Z"
    },
    "papermill": {
     "duration": 0.622487,
     "end_time": "2024-11-05T14:37:55.184535",
     "exception": false,
     "start_time": "2024-11-05T14:37:54.562048",
     "status": "completed"
    },
    "tags": []
   },
   "outputs": [
    {
     "data": {
      "text/html": [
       "<div>\n",
       "<style scoped>\n",
       "    .dataframe tbody tr th:only-of-type {\n",
       "        vertical-align: middle;\n",
       "    }\n",
       "\n",
       "    .dataframe tbody tr th {\n",
       "        vertical-align: top;\n",
       "    }\n",
       "\n",
       "    .dataframe thead th {\n",
       "        text-align: right;\n",
       "    }\n",
       "</style>\n",
       "<table border=\"1\" class=\"dataframe\">\n",
       "  <thead>\n",
       "    <tr style=\"text-align: right;\">\n",
       "      <th></th>\n",
       "      <th>Hour</th>\n",
       "      <th>Class</th>\n",
       "      <th>Min</th>\n",
       "      <th>Max</th>\n",
       "      <th>Transactions</th>\n",
       "      <th>Sum</th>\n",
       "      <th>Mean</th>\n",
       "      <th>Median</th>\n",
       "      <th>Var</th>\n",
       "    </tr>\n",
       "  </thead>\n",
       "  <tbody>\n",
       "    <tr>\n",
       "      <th>0</th>\n",
       "      <td>0.0</td>\n",
       "      <td>0</td>\n",
       "      <td>0.0</td>\n",
       "      <td>7712.43</td>\n",
       "      <td>3961</td>\n",
       "      <td>256572.87</td>\n",
       "      <td>64.774772</td>\n",
       "      <td>12.990</td>\n",
       "      <td>45615.821201</td>\n",
       "    </tr>\n",
       "    <tr>\n",
       "      <th>1</th>\n",
       "      <td>0.0</td>\n",
       "      <td>1</td>\n",
       "      <td>0.0</td>\n",
       "      <td>529.00</td>\n",
       "      <td>2</td>\n",
       "      <td>529.00</td>\n",
       "      <td>264.500000</td>\n",
       "      <td>264.500</td>\n",
       "      <td>139920.500000</td>\n",
       "    </tr>\n",
       "    <tr>\n",
       "      <th>2</th>\n",
       "      <td>1.0</td>\n",
       "      <td>0</td>\n",
       "      <td>0.0</td>\n",
       "      <td>1769.69</td>\n",
       "      <td>2215</td>\n",
       "      <td>145806.76</td>\n",
       "      <td>65.826980</td>\n",
       "      <td>22.820</td>\n",
       "      <td>20053.615770</td>\n",
       "    </tr>\n",
       "    <tr>\n",
       "      <th>3</th>\n",
       "      <td>1.0</td>\n",
       "      <td>1</td>\n",
       "      <td>59.0</td>\n",
       "      <td>239.93</td>\n",
       "      <td>2</td>\n",
       "      <td>298.93</td>\n",
       "      <td>149.465000</td>\n",
       "      <td>149.465</td>\n",
       "      <td>16367.832450</td>\n",
       "    </tr>\n",
       "    <tr>\n",
       "      <th>4</th>\n",
       "      <td>2.0</td>\n",
       "      <td>0</td>\n",
       "      <td>0.0</td>\n",
       "      <td>4002.88</td>\n",
       "      <td>1555</td>\n",
       "      <td>106989.39</td>\n",
       "      <td>68.803466</td>\n",
       "      <td>17.900</td>\n",
       "      <td>45355.430437</td>\n",
       "    </tr>\n",
       "  </tbody>\n",
       "</table>\n",
       "</div>"
      ],
      "text/plain": [
       "   Hour  Class   Min      Max  Transactions        Sum        Mean   Median  \\\n",
       "0   0.0      0   0.0  7712.43          3961  256572.87   64.774772   12.990   \n",
       "1   0.0      1   0.0   529.00             2     529.00  264.500000  264.500   \n",
       "2   1.0      0   0.0  1769.69          2215  145806.76   65.826980   22.820   \n",
       "3   1.0      1  59.0   239.93             2     298.93  149.465000  149.465   \n",
       "4   2.0      0   0.0  4002.88          1555  106989.39   68.803466   17.900   \n",
       "\n",
       "             Var  \n",
       "0   45615.821201  \n",
       "1  139920.500000  \n",
       "2   20053.615770  \n",
       "3   16367.832450  \n",
       "4   45355.430437  "
      ]
     },
     "execution_count": 8,
     "metadata": {},
     "output_type": "execute_result"
    }
   ],
   "source": [
    "df['Hour'] = df['Time'].apply(lambda x: np.floor(x / 3600))\n",
    "\n",
    "tmp = df.groupby(['Hour', 'Class'])['Amount'].aggregate(['min', 'max', 'count', 'sum', 'mean', 'median', 'var']).reset_index()\n",
    "data = pd.DataFrame(tmp)\n",
    "data.columns = ['Hour', 'Class', 'Min', 'Max', 'Transactions', 'Sum', 'Mean', 'Median', 'Var']\n",
    "data.head()"
   ]
  },
  {
   "cell_type": "code",
   "execution_count": 9,
   "id": "3bde79ab",
   "metadata": {
    "execution": {
     "iopub.execute_input": "2024-11-05T14:37:55.224227Z",
     "iopub.status.busy": "2024-11-05T14:37:55.223527Z",
     "iopub.status.idle": "2024-11-05T14:38:04.121772Z",
     "shell.execute_reply": "2024-11-05T14:38:04.120897Z"
    },
    "papermill": {
     "duration": 8.920953,
     "end_time": "2024-11-05T14:38:04.124676",
     "exception": false,
     "start_time": "2024-11-05T14:37:55.203723",
     "status": "completed"
    },
    "tags": []
   },
   "outputs": [
    {
     "data": {
      "image/png": "[encoded data removed]",
      "text/plain": [
       "<Figure size 1000x600 with 1 Axes>"
      ]
     },
     "metadata": {},
     "output_type": "display_data"
    }
   ],
   "source": [
    "plt.figure(figsize=(10,6))\n",
    "sns.color_palette(\"mako\", as_cmap=True)\n",
    "sns.scatterplot(data= df, x='Hour', y='Amount', hue='Class')\n",
    "plt.title(\"Time vs transaction amount\")\n",
    "plt.show()"
   ]
  },
  {
   "cell_type": "markdown",
   "id": "4fd04bca",
   "metadata": {
    "papermill": {
     "duration": 0.01995,
     "end_time": "2024-11-05T14:38:04.165496",
     "exception": false,
     "start_time": "2024-11-05T14:38:04.145546",
     "status": "completed"
    },
    "tags": []
   },
   "source": [
    "Since there is 0,17% of fraudelant transaction, it's a bit difficult to come to conclusion"
   ]
  },
  {
   "cell_type": "code",
   "execution_count": 10,
   "id": "8a6437f7",
   "metadata": {
    "execution": {
     "iopub.execute_input": "2024-11-05T14:38:04.208123Z",
     "iopub.status.busy": "2024-11-05T14:38:04.207463Z",
     "iopub.status.idle": "2024-11-05T14:38:04.616409Z",
     "shell.execute_reply": "2024-11-05T14:38:04.615509Z"
    },
    "papermill": {
     "duration": 0.43243,
     "end_time": "2024-11-05T14:38:04.618362",
     "exception": false,
     "start_time": "2024-11-05T14:38:04.185932",
     "status": "completed"
    },
    "tags": []
   },
   "outputs": [
    {
     "data": {
      "image/png": "[encoded data removed]",
      "text/plain": [
       "<Figure size 1800x600 with 2 Axes>"
      ]
     },
     "metadata": {},
     "output_type": "display_data"
    }
   ],
   "source": [
    "fig, (ax1, ax2) = plt.subplots(ncols=2, figsize=(18,6))\n",
    "s = sns.lineplot(ax = ax1, x=\"Hour\", y=\"Sum\", data=data.loc[data.Class==0])\n",
    "s = sns.lineplot(ax = ax2, x=\"Hour\", y=\"Sum\", data=data.loc[data.Class==1], color=\"orange\")\n",
    "plt.suptitle(\"Total Amount\")\n",
    "plt.show()"
   ]
  },
  {
   "cell_type": "code",
   "execution_count": 11,
   "id": "602141a0",
   "metadata": {
    "execution": {
     "iopub.execute_input": "2024-11-05T14:38:04.663348Z",
     "iopub.status.busy": "2024-11-05T14:38:04.663015Z",
     "iopub.status.idle": "2024-11-05T14:38:05.198516Z",
     "shell.execute_reply": "2024-11-05T14:38:05.197576Z"
    },
    "papermill": {
     "duration": 0.560538,
     "end_time": "2024-11-05T14:38:05.200649",
     "exception": false,
     "start_time": "2024-11-05T14:38:04.640111",
     "status": "completed"
    },
    "tags": []
   },
   "outputs": [
    {
     "data": {
      "image/png": "[encoded data removed]",
      "text/plain": [
       "<Figure size 1200x600 with 2 Axes>"
      ]
     },
     "metadata": {},
     "output_type": "display_data"
    }
   ],
   "source": [
    "fig, (ax1, ax2) = plt.subplots(ncols=2, figsize=(12,6))\n",
    "s = sns.boxplot(ax = ax1, x=\"Class\", y=\"Amount\", hue=\"Class\",data=df, palette=\"mako\",showfliers=True)\n",
    "s = sns.boxplot(ax = ax2, x=\"Class\", y=\"Amount\", hue=\"Class\",data=df, palette=\"mako\",showfliers=False)\n",
    "plt.show()"
   ]
  },
  {
   "cell_type": "code",
   "execution_count": 12,
   "id": "f0d456c8",
   "metadata": {
    "execution": {
     "iopub.execute_input": "2024-11-05T14:38:05.246313Z",
     "iopub.status.busy": "2024-11-05T14:38:05.245974Z",
     "iopub.status.idle": "2024-11-05T14:38:05.272886Z",
     "shell.execute_reply": "2024-11-05T14:38:05.271964Z"
    },
    "papermill": {
     "duration": 0.051639,
     "end_time": "2024-11-05T14:38:05.274676",
     "exception": false,
     "start_time": "2024-11-05T14:38:05.223037",
     "status": "completed"
    },
    "tags": []
   },
   "outputs": [
    {
     "data": {
      "text/plain": [
       "count    284315.000000\n",
       "mean         88.291022\n",
       "std         250.105092\n",
       "min           0.000000\n",
       "25%           5.650000\n",
       "50%          22.000000\n",
       "75%          77.050000\n",
       "max       25691.160000\n",
       "Name: Amount, dtype: float64"
      ]
     },
     "execution_count": 12,
     "metadata": {},
     "output_type": "execute_result"
    }
   ],
   "source": [
    "tmp = df[['Amount','Class']].copy()\n",
    "class_0 = tmp.loc[tmp['Class'] == 0]['Amount']\n",
    "class_1 = tmp.loc[tmp['Class'] == 1]['Amount']\n",
    "class_0.describe()"
   ]
  },
  {
   "cell_type": "code",
   "execution_count": 13,
   "id": "b9850522",
   "metadata": {
    "execution": {
     "iopub.execute_input": "2024-11-05T14:38:05.320107Z",
     "iopub.status.busy": "2024-11-05T14:38:05.319828Z",
     "iopub.status.idle": "2024-11-05T14:38:05.328566Z",
     "shell.execute_reply": "2024-11-05T14:38:05.327736Z"
    },
    "papermill": {
     "duration": 0.033853,
     "end_time": "2024-11-05T14:38:05.330573",
     "exception": false,
     "start_time": "2024-11-05T14:38:05.296720",
     "status": "completed"
    },
    "tags": []
   },
   "outputs": [
    {
     "data": {
      "text/plain": [
       "count     492.000000\n",
       "mean      122.211321\n",
       "std       256.683288\n",
       "min         0.000000\n",
       "25%         1.000000\n",
       "50%         9.250000\n",
       "75%       105.890000\n",
       "max      2125.870000\n",
       "Name: Amount, dtype: float64"
      ]
     },
     "execution_count": 13,
     "metadata": {},
     "output_type": "execute_result"
    }
   ],
   "source": [
    "class_1.describe()"
   ]
  },
  {
   "cell_type": "markdown",
   "id": "dadaa2ae",
   "metadata": {
    "papermill": {
     "duration": 0.021702,
     "end_time": "2024-11-05T14:38:05.374765",
     "exception": false,
     "start_time": "2024-11-05T14:38:05.353063",
     "status": "completed"
    },
    "tags": []
   },
   "source": [
    "The real transaction have a larger mean value, larger Q1, smaller Q3 and Q4 and larger outliers; fraudulent transactions have a smaller Q1 and mean, larger Q4 and smaller outliers"
   ]
  },
  {
   "cell_type": "markdown",
   "id": "1f449a96",
   "metadata": {
    "papermill": {
     "duration": 0.021724,
     "end_time": "2024-11-05T14:38:05.418464",
     "exception": false,
     "start_time": "2024-11-05T14:38:05.396740",
     "status": "completed"
    },
    "tags": []
   },
   "source": [
    "## Correlation check\n"
   ]
  },
  {
   "cell_type": "code",
   "execution_count": 14,
   "id": "a183e1c1",
   "metadata": {
    "execution": {
     "iopub.execute_input": "2024-11-05T14:38:05.463344Z",
     "iopub.status.busy": "2024-11-05T14:38:05.463026Z",
     "iopub.status.idle": "2024-11-05T14:38:06.267553Z",
     "shell.execute_reply": "2024-11-05T14:38:06.266582Z"
    },
    "papermill": {
     "duration": 0.829631,
     "end_time": "2024-11-05T14:38:06.270057",
     "exception": false,
     "start_time": "2024-11-05T14:38:05.440426",
     "status": "completed"
    },
    "tags": []
   },
   "outputs": [
    {
     "name": "stdout",
     "output_type": "stream",
     "text": [
      "There is 14 strongly correlated values with Class:\n",
      "Class     1.000000\n",
      "V11       0.154876\n",
      "V4        0.133447\n",
      "V2        0.091289\n",
      "V21       0.040413\n",
      "V19       0.034783\n",
      "V20       0.020090\n",
      "V8        0.019875\n",
      "V27       0.017580\n",
      "V28       0.009536\n",
      "Amount    0.005632\n",
      "V26       0.004455\n",
      "V25       0.003308\n",
      "V22       0.000805\n",
      "Name: Class, dtype: float64\n"
     ]
    }
   ],
   "source": [
    "df_num = df.select_dtypes(include = ['float64', 'int64'])\n",
    "df_num_corr = df_num.corr()['Class']\n",
    "top_features = df_num_corr[(df_num_corr) > 0.0].sort_values(ascending=False) #displays pearsons correlation coefficient greater than 0.5\n",
    "print(\"There is {} strongly correlated values with Class:\\n{}\".format(len(top_features), top_features))"
   ]
  },
  {
   "cell_type": "markdown",
   "id": "77266408",
   "metadata": {
    "papermill": {
     "duration": 0.022071,
     "end_time": "2024-11-05T14:38:06.316283",
     "exception": false,
     "start_time": "2024-11-05T14:38:06.294212",
     "status": "completed"
    },
    "tags": []
   },
   "source": [
    "### Machine Leaning Model"
   ]
  },
  {
   "cell_type": "code",
   "execution_count": 15,
   "id": "92f0dade",
   "metadata": {
    "execution": {
     "iopub.execute_input": "2024-11-05T14:38:06.364067Z",
     "iopub.status.busy": "2024-11-05T14:38:06.363169Z",
     "iopub.status.idle": "2024-11-05T14:38:06.391530Z",
     "shell.execute_reply": "2024-11-05T14:38:06.390506Z"
    },
    "papermill": {
     "duration": 0.054137,
     "end_time": "2024-11-05T14:38:06.393854",
     "exception": false,
     "start_time": "2024-11-05T14:38:06.339717",
     "status": "completed"
    },
    "tags": []
   },
   "outputs": [],
   "source": [
    "\n",
    "# Assuming your dataset is loaded into a DataFrame called 'df'\n",
    "# df = pd.read_csv('your_dataset.csv')\n",
    "\n",
    "# Feature selection and encoding\n",
    "X = df.drop(['Class'], axis=1)\n",
    "y = df['Class']\n"
   ]
  },
  {
   "cell_type": "code",
   "execution_count": 16,
   "id": "3c14eaec",
   "metadata": {
    "execution": {
     "iopub.execute_input": "2024-11-05T14:38:06.440709Z",
     "iopub.status.busy": "2024-11-05T14:38:06.439929Z",
     "iopub.status.idle": "2024-11-05T14:38:06.720498Z",
     "shell.execute_reply": "2024-11-05T14:38:06.719502Z"
    },
    "papermill": {
     "duration": 0.306312,
     "end_time": "2024-11-05T14:38:06.722962",
     "exception": false,
     "start_time": "2024-11-05T14:38:06.416650",
     "status": "completed"
    },
    "tags": []
   },
   "outputs": [],
   "source": [
    "### StratifiedShuffleSplit\n",
    "from sklearn.model_selection import StratifiedShuffleSplit\n",
    "\n",
    "# Get the split indexes\n",
    "strat_shuf_split = StratifiedShuffleSplit(n_splits=1, \n",
    "                                          test_size=0.3, \n",
    "                                          random_state=42)\n",
    "\n",
    "train_idx, test_idx = next(strat_shuf_split.split(df[feature_cols], df.Class))\n",
    "\n",
    "# Create the dataframes\n",
    "X_train = df.loc[train_idx, feature_cols]\n",
    "y_train = df.loc[train_idx, 'Class']\n",
    "\n",
    "X_test  = df.loc[test_idx, feature_cols]\n",
    "y_test  = df.loc[test_idx, 'Class']"
   ]
  },
  {
   "cell_type": "markdown",
   "id": "af3c7960",
   "metadata": {
    "papermill": {
     "duration": 0.021946,
     "end_time": "2024-11-05T14:38:06.767372",
     "exception": false,
     "start_time": "2024-11-05T14:38:06.745426",
     "status": "completed"
    },
    "tags": []
   },
   "source": [
    "let's check the shape of split data"
   ]
  },
  {
   "cell_type": "code",
   "execution_count": 17,
   "id": "48a90f19",
   "metadata": {
    "execution": {
     "iopub.execute_input": "2024-11-05T14:38:06.812887Z",
     "iopub.status.busy": "2024-11-05T14:38:06.812477Z",
     "iopub.status.idle": "2024-11-05T14:38:06.818106Z",
     "shell.execute_reply": "2024-11-05T14:38:06.816889Z"
    },
    "papermill": {
     "duration": 0.030742,
     "end_time": "2024-11-05T14:38:06.820124",
     "exception": false,
     "start_time": "2024-11-05T14:38:06.789382",
     "status": "completed"
    },
    "tags": []
   },
   "outputs": [
    {
     "name": "stdout",
     "output_type": "stream",
     "text": [
      "Training dataset shape, X_train: (199364, 30), y_train: (199364,)\n",
      "Testing dataset shape, X_test: (85443, 30), y_test: (85443,)\n"
     ]
    }
   ],
   "source": [
    "print(f\"Training dataset shape, X_train: {X_train.shape}, y_train: {y_train.shape}\")\n",
    "print(f\"Testing dataset shape, X_test: {X_test.shape}, y_test: {y_test.shape}\")"
   ]
  },
  {
   "cell_type": "markdown",
   "id": "f2a51577",
   "metadata": {
    "papermill": {
     "duration": 0.022225,
     "end_time": "2024-11-05T14:38:06.864651",
     "exception": false,
     "start_time": "2024-11-05T14:38:06.842426",
     "status": "completed"
    },
    "tags": []
   },
   "source": [
    "## 1.Logistic RegressionCV"
   ]
  },
  {
   "cell_type": "code",
   "execution_count": 18,
   "id": "28bf276a",
   "metadata": {
    "execution": {
     "iopub.execute_input": "2024-11-05T14:38:06.910506Z",
     "iopub.status.busy": "2024-11-05T14:38:06.910180Z",
     "iopub.status.idle": "2024-11-05T14:39:33.502362Z",
     "shell.execute_reply": "2024-11-05T14:39:33.501477Z"
    },
    "papermill": {
     "duration": 86.617802,
     "end_time": "2024-11-05T14:39:33.504829",
     "exception": false,
     "start_time": "2024-11-05T14:38:06.887027",
     "status": "completed"
    },
    "tags": []
   },
   "outputs": [],
   "source": [
    "LR =  LogisticRegressionCV(Cs=10, cv=4, penalty='l1', solver='liblinear')\n",
    "\n",
    "LR = LR.fit(X_train, y_train)"
   ]
  },
  {
   "cell_type": "code",
   "execution_count": 19,
   "id": "bb63e7d0",
   "metadata": {
    "execution": {
     "iopub.execute_input": "2024-11-05T14:39:33.555025Z",
     "iopub.status.busy": "2024-11-05T14:39:33.554187Z",
     "iopub.status.idle": "2024-11-05T14:39:33.911493Z",
     "shell.execute_reply": "2024-11-05T14:39:33.910475Z"
    },
    "papermill": {
     "duration": 0.385422,
     "end_time": "2024-11-05T14:39:33.914404",
     "exception": false,
     "start_time": "2024-11-05T14:39:33.528982",
     "status": "completed"
    },
    "tags": []
   },
   "outputs": [
    {
     "name": "stdout",
     "output_type": "stream",
     "text": [
      "              precision    recall  f1-score   support\n",
      "\n",
      "           0       1.00      1.00      1.00     85295\n",
      "           1       0.86      0.61      0.71       148\n",
      "\n",
      "    accuracy                           1.00     85443\n",
      "   macro avg       0.93      0.80      0.86     85443\n",
      "weighted avg       1.00      1.00      1.00     85443\n",
      "\n",
      "Accuracy score:  1.0\n",
      "F1 Score:  0.71\n"
     ]
    }
   ],
   "source": [
    "y_pred = LR.predict(X_test)\n",
    "# Preciision, recall, f-score from the multi-class support function\n",
    "print(classification_report(y_test, y_pred))\n",
    "print('Accuracy score: ', round(accuracy_score(y_test, y_pred), 2))\n",
    "print('F1 Score: ', round(f1_score(y_test, y_pred), 2))"
   ]
  },
  {
   "cell_type": "markdown",
   "id": "0091faf4",
   "metadata": {
    "papermill": {
     "duration": 0.022611,
     "end_time": "2024-11-05T14:39:33.960125",
     "exception": false,
     "start_time": "2024-11-05T14:39:33.937514",
     "status": "completed"
    },
    "tags": []
   },
   "source": [
    "## 2.LogisticRegresion l2"
   ]
  },
  {
   "cell_type": "code",
   "execution_count": 20,
   "id": "2702b188",
   "metadata": {
    "execution": {
     "iopub.execute_input": "2024-11-05T14:39:34.007411Z",
     "iopub.status.busy": "2024-11-05T14:39:34.006770Z",
     "iopub.status.idle": "2024-11-05T14:40:40.416965Z",
     "shell.execute_reply": "2024-11-05T14:40:40.416057Z"
    },
    "papermill": {
     "duration": 66.45209,
     "end_time": "2024-11-05T14:40:40.434877",
     "exception": false,
     "start_time": "2024-11-05T14:39:33.982787",
     "status": "completed"
    },
    "tags": []
   },
   "outputs": [
    {
     "name": "stdout",
     "output_type": "stream",
     "text": [
      "              precision    recall  f1-score   support\n",
      "\n",
      "           0       1.00      1.00      1.00     85443\n",
      "           1       0.00      0.00      0.00         0\n",
      "\n",
      "    accuracy                           1.00     85443\n",
      "   macro avg       0.50      0.50      0.50     85443\n",
      "weighted avg       1.00      1.00      1.00     85443\n",
      "\n"
     ]
    },
    {
     "data": {
      "image/png": "[encoded data removed]",
      "text/plain": [
       "<Figure size 640x480 with 2 Axes>"
      ]
     },
     "metadata": {},
     "output_type": "display_data"
    }
   ],
   "source": [
    "### logisticRegression l2\n",
    "from sklearn.linear_model import LogisticRegression\n",
    "\n",
    "# L2 regularized logistic regression\n",
    "LR_L2 = LogisticRegression(penalty='l2', max_iter=500, solver='saga').fit(X_train, y_train)\n",
    "\n",
    "y_pred = LR_L2.predict(X_test)\n",
    "print(classification_report(y_pred, y_test))\n",
    "#heatmap\n",
    "cm = confusion_matrix(y_test, y_pred)\n",
    "sns.heatmap(cm, annot=True, fmt='g', cmap='Blues')\n",
    "plt.show()"
   ]
  },
  {
   "cell_type": "markdown",
   "id": "6950d45d",
   "metadata": {
    "papermill": {
     "duration": 0.0229,
     "end_time": "2024-11-05T14:40:40.480810",
     "exception": false,
     "start_time": "2024-11-05T14:40:40.457910",
     "status": "completed"
    },
    "tags": []
   },
   "source": [
    "## 3. DecisionTreeClassifier"
   ]
  },
  {
   "cell_type": "code",
   "execution_count": 21,
   "id": "90e981d4",
   "metadata": {
    "execution": {
     "iopub.execute_input": "2024-11-05T14:40:40.527494Z",
     "iopub.status.busy": "2024-11-05T14:40:40.527151Z",
     "iopub.status.idle": "2024-11-05T14:40:54.466144Z",
     "shell.execute_reply": "2024-11-05T14:40:54.465162Z"
    },
    "papermill": {
     "duration": 13.964976,
     "end_time": "2024-11-05T14:40:54.468490",
     "exception": false,
     "start_time": "2024-11-05T14:40:40.503514",
     "status": "completed"
    },
    "tags": []
   },
   "outputs": [],
   "source": [
    "from sklearn.tree import DecisionTreeClassifier\n",
    "\n",
    "dt = DecisionTreeClassifier(criterion='gini', splitter='best', max_depth=15,  min_samples_leaf=5, random_state=42)\n",
    "dt = dt.fit(X_train, y_train)"
   ]
  },
  {
   "cell_type": "code",
   "execution_count": 22,
   "id": "eece0299",
   "metadata": {
    "execution": {
     "iopub.execute_input": "2024-11-05T14:40:54.515999Z",
     "iopub.status.busy": "2024-11-05T14:40:54.515667Z",
     "iopub.status.idle": "2024-11-05T14:40:54.521516Z",
     "shell.execute_reply": "2024-11-05T14:40:54.520689Z"
    },
    "papermill": {
     "duration": 0.031415,
     "end_time": "2024-11-05T14:40:54.523419",
     "exception": false,
     "start_time": "2024-11-05T14:40:54.492004",
     "status": "completed"
    },
    "tags": []
   },
   "outputs": [
    {
     "data": {
      "text/plain": [
       "(137, 15)"
      ]
     },
     "execution_count": 22,
     "metadata": {},
     "output_type": "execute_result"
    }
   ],
   "source": [
    "dt.tree_.node_count, dt.tree_.max_depth"
   ]
  },
  {
   "cell_type": "code",
   "execution_count": 23,
   "id": "c3971a59",
   "metadata": {
    "execution": {
     "iopub.execute_input": "2024-11-05T14:40:54.570062Z",
     "iopub.status.busy": "2024-11-05T14:40:54.569763Z",
     "iopub.status.idle": "2024-11-05T14:40:54.574869Z",
     "shell.execute_reply": "2024-11-05T14:40:54.574082Z"
    },
    "papermill": {
     "duration": 0.030479,
     "end_time": "2024-11-05T14:40:54.576660",
     "exception": false,
     "start_time": "2024-11-05T14:40:54.546181",
     "status": "completed"
    },
    "tags": []
   },
   "outputs": [],
   "source": [
    "from sklearn.metrics import accuracy_score, precision_score, recall_score, f1_score\n",
    "\n",
    "def measure_error(y_true, y_pred, label):\n",
    "    return pd.Series({'accuracy':accuracy_score(y_true, y_pred),\n",
    "                      'precision': precision_score(y_true, y_pred),\n",
    "                      'recall': recall_score(y_true, y_pred),\n",
    "                      'f1': f1_score(y_true, y_pred)},\n",
    "                      name=label)"
   ]
  },
  {
   "cell_type": "markdown",
   "id": "f2770d02",
   "metadata": {
    "papermill": {
     "duration": 0.022647,
     "end_time": "2024-11-05T14:40:54.622714",
     "exception": false,
     "start_time": "2024-11-05T14:40:54.600067",
     "status": "completed"
    },
    "tags": []
   },
   "source": [
    "The decision tree predicts a little better on the training data than the test data, which is consistent with (mild)  overfitting. Also notice the perfect recall score for the training data. In many instances, this prediction difference is even greater than that seen here. "
   ]
  },
  {
   "cell_type": "code",
   "execution_count": 24,
   "id": "c89c14e4",
   "metadata": {
    "execution": {
     "iopub.execute_input": "2024-11-05T14:40:54.669414Z",
     "iopub.status.busy": "2024-11-05T14:40:54.669111Z",
     "iopub.status.idle": "2024-11-05T14:40:55.242753Z",
     "shell.execute_reply": "2024-11-05T14:40:55.241809Z"
    },
    "papermill": {
     "duration": 0.599473,
     "end_time": "2024-11-05T14:40:55.244867",
     "exception": false,
     "start_time": "2024-11-05T14:40:54.645394",
     "status": "completed"
    },
    "tags": []
   },
   "outputs": [
    {
     "data": {
      "text/html": [
       "<div>\n",
       "<style scoped>\n",
       "    .dataframe tbody tr th:only-of-type {\n",
       "        vertical-align: middle;\n",
       "    }\n",
       "\n",
       "    .dataframe tbody tr th {\n",
       "        vertical-align: top;\n",
       "    }\n",
       "\n",
       "    .dataframe thead th {\n",
       "        text-align: right;\n",
       "    }\n",
       "</style>\n",
       "<table border=\"1\" class=\"dataframe\">\n",
       "  <thead>\n",
       "    <tr style=\"text-align: right;\">\n",
       "      <th></th>\n",
       "      <th>train</th>\n",
       "      <th>test</th>\n",
       "    </tr>\n",
       "  </thead>\n",
       "  <tbody>\n",
       "    <tr>\n",
       "      <th>accuracy</th>\n",
       "      <td>0.999629</td>\n",
       "      <td>0.999228</td>\n",
       "    </tr>\n",
       "    <tr>\n",
       "      <th>precision</th>\n",
       "      <td>0.947020</td>\n",
       "      <td>0.805970</td>\n",
       "    </tr>\n",
       "    <tr>\n",
       "      <th>recall</th>\n",
       "      <td>0.831395</td>\n",
       "      <td>0.729730</td>\n",
       "    </tr>\n",
       "    <tr>\n",
       "      <th>f1</th>\n",
       "      <td>0.885449</td>\n",
       "      <td>0.765957</td>\n",
       "    </tr>\n",
       "  </tbody>\n",
       "</table>\n",
       "</div>"
      ],
      "text/plain": [
       "              train      test\n",
       "accuracy   0.999629  0.999228\n",
       "precision  0.947020  0.805970\n",
       "recall     0.831395  0.729730\n",
       "f1         0.885449  0.765957"
      ]
     },
     "execution_count": 24,
     "metadata": {},
     "output_type": "execute_result"
    }
   ],
   "source": [
    "y_train_pred = dt.predict(X_train)\n",
    "y_test_pred = dt.predict(X_test)\n",
    "\n",
    "train_test_full_error = pd.concat([measure_error(y_train, y_train_pred, 'train'),\n",
    "                              measure_error(y_test, y_test_pred, 'test')],\n",
    "                              axis=1)\n",
    "\n",
    "train_test_full_error"
   ]
  },
  {
   "cell_type": "markdown",
   "id": "28220df8",
   "metadata": {
    "papermill": {
     "duration": 0.022983,
     "end_time": "2024-11-05T14:40:55.291493",
     "exception": false,
     "start_time": "2024-11-05T14:40:55.268510",
     "status": "completed"
    },
    "tags": []
   },
   "source": [
    "## KNN (K- Nearest Neighbors)Algorithm.\n"
   ]
  },
  {
   "cell_type": "code",
   "execution_count": 25,
   "id": "b363104e",
   "metadata": {
    "execution": {
     "iopub.execute_input": "2024-11-05T14:40:55.338948Z",
     "iopub.status.busy": "2024-11-05T14:40:55.338206Z",
     "iopub.status.idle": "2024-11-05T14:41:37.651990Z",
     "shell.execute_reply": "2024-11-05T14:41:37.650918Z"
    },
    "papermill": {
     "duration": 42.36231,
     "end_time": "2024-11-05T14:41:37.676734",
     "exception": false,
     "start_time": "2024-11-05T14:40:55.314424",
     "status": "completed"
    },
    "tags": []
   },
   "outputs": [
    {
     "name": "stdout",
     "output_type": "stream",
     "text": [
      "              precision    recall  f1-score   support\n",
      "\n",
      "           0       1.00      1.00      1.00     85295\n",
      "           1       0.00      0.00      0.00       148\n",
      "\n",
      "    accuracy                           1.00     85443\n",
      "   macro avg       0.50      0.50      0.50     85443\n",
      "weighted avg       1.00      1.00      1.00     85443\n",
      "\n",
      "Accuracy score:  1.0\n",
      "F1 Score:  0.0\n"
     ]
    }
   ],
   "source": [
    "from sklearn.neighbors import KNeighborsClassifier\n",
    "n = np.arange(1, 30)\n",
    "knn = KNeighborsClassifier(n_neighbors = 10, metric='minkowski', n_jobs=1, leaf_size=5)\n",
    "    \n",
    "knn = knn.fit(X_train, y_train)\n",
    "y_pred = knn.predict(X_test)\n",
    "# Preciision, recall, f-score from the multi-class support function\n",
    "print(classification_report(y_test, y_pred))\n",
    "print('Accuracy score: ', round(accuracy_score(y_test, y_pred), 2))\n",
    "print('F1 Score: ', round(f1_score(y_test, y_pred), 2))"
   ]
  },
  {
   "cell_type": "code",
   "execution_count": 26,
   "id": "9178bb85",
   "metadata": {
    "execution": {
     "iopub.execute_input": "2024-11-05T14:41:37.724530Z",
     "iopub.status.busy": "2024-11-05T14:41:37.723695Z",
     "iopub.status.idle": "2024-11-05T15:01:00.178970Z",
     "shell.execute_reply": "2024-11-05T15:01:00.177997Z"
    },
    "papermill": {
     "duration": 1162.504431,
     "end_time": "2024-11-05T15:01:00.204116",
     "exception": false,
     "start_time": "2024-11-05T14:41:37.699685",
     "status": "completed"
    },
    "tags": []
   },
   "outputs": [
    {
     "name": "stdout",
     "output_type": "stream",
     "text": [
      "Accuracy: 0.9982745129511847\n",
      "test accuracy: 0.9982678510820079\n",
      "test accuracy: 0.9982678510820079\n"
     ]
    }
   ],
   "source": [
    "neighbors = np.arange(1, 7)\n",
    "train_accuracy =np.empty(len(neighbors))\n",
    "test_accuracy = np.empty(len(neighbors))\n",
    "\n",
    "for i,k in enumerate(neighbors):\n",
    "    #Setup a knn classifier with k neighbors\n",
    "    knn = KNeighborsClassifier(n_neighbors = 100, metric='minkowski', n_jobs=5, leaf_size=5)\n",
    "    \n",
    "    #Fit the model\n",
    "    knn = knn.fit(X_train, y_train)\n",
    "    \n",
    "    #Compute accuracy on the training set\n",
    "    train_accuracy[i] = knn.score(X_train, y_train)\n",
    "    \n",
    "    #Compute accuracy on the test set\n",
    "    test_accuracy[i] = knn.score(X_test, y_test)\n",
    "\n",
    "    test_accuracy[i] = knn.score(X_test, y_test)\n",
    "\n",
    "#print the accuracy result\n",
    "accuracy = accuracy_score(y_test, y_test)\n",
    "print(\"Accuracy:\", train_accuracy[i])\n",
    "print(\"test accuracy:\", test_accuracy[i])\n",
    "print(\"test accuracy:\", test_accuracy[i])"
   ]
  },
  {
   "cell_type": "code",
   "execution_count": 27,
   "id": "e6b157b5",
   "metadata": {
    "execution": {
     "iopub.execute_input": "2024-11-05T15:01:00.252313Z",
     "iopub.status.busy": "2024-11-05T15:01:00.251987Z",
     "iopub.status.idle": "2024-11-05T15:01:00.556407Z",
     "shell.execute_reply": "2024-11-05T15:01:00.555457Z"
    },
    "papermill": {
     "duration": 0.330962,
     "end_time": "2024-11-05T15:01:00.558408",
     "exception": false,
     "start_time": "2024-11-05T15:01:00.227446",
     "status": "completed"
    },
    "tags": []
   },
   "outputs": [
    {
     "data": {
      "image/png": "[encoded data removed]",
      "text/plain": [
       "<Figure size 1000x600 with 1 Axes>"
      ]
     },
     "metadata": {},
     "output_type": "display_data"
    }
   ],
   "source": [
    "plt.figure(figsize=(10,6))\n",
    "plt.title('k-NN assesment of Class result')\n",
    "plt.plot(neighbors, test_accuracy, label='Accuracy of Test Data')\n",
    "plt.plot(neighbors, train_accuracy, label='Accuracy of Training Data')\n",
    "plt.legend()\n",
    "plt.xlabel('Class result')\n",
    "plt.ylabel('Accuracy')\n",
    "plt.show()"
   ]
  },
  {
   "cell_type": "markdown",
   "id": "bc1a1479",
   "metadata": {
    "papermill": {
     "duration": 0.023597,
     "end_time": "2024-11-05T15:01:00.606308",
     "exception": false,
     "start_time": "2024-11-05T15:01:00.582711",
     "status": "completed"
    },
    "tags": []
   },
   "source": [
    "## Using Cross Validation to Get the Best Value of k"
   ]
  },
  {
   "cell_type": "code",
   "execution_count": 28,
   "id": "e80e0efb",
   "metadata": {
    "execution": {
     "iopub.execute_input": "2024-11-05T15:01:00.655151Z",
     "iopub.status.busy": "2024-11-05T15:01:00.654841Z",
     "iopub.status.idle": "2024-11-05T15:09:55.113073Z",
     "shell.execute_reply": "2024-11-05T15:09:55.112186Z"
    },
    "papermill": {
     "duration": 534.485114,
     "end_time": "2024-11-05T15:09:55.115126",
     "exception": false,
     "start_time": "2024-11-05T15:01:00.630012",
     "status": "completed"
    },
    "tags": []
   },
   "outputs": [
    {
     "data": {
      "text/plain": [
       "Text(0, 0.5, 'Accuracy Score')"
      ]
     },
     "execution_count": 28,
     "metadata": {},
     "output_type": "execute_result"
    },
    {
     "data": {
      "image/png": "[encoded data removed]",
      "text/plain": [
       "<Figure size 640x480 with 1 Axes>"
      ]
     },
     "metadata": {},
     "output_type": "display_data"
    }
   ],
   "source": [
    "k_values = [i for i in range (1,31)]\n",
    "scores = []\n",
    "\n",
    "scaler = StandardScaler()\n",
    "X = scaler.fit_transform(X)\n",
    "\n",
    "for k in k_values:\n",
    "    knn = KNeighborsClassifier(n_neighbors=k, metric='minkowski', p=2)\n",
    "    score = cross_val_score(knn,X_test, y_test, cv=5)\n",
    "    scores.append(np.mean(score))\n",
    "\n",
    "sns.lineplot(x = k_values, y = scores, marker = 'o')\n",
    "plt.xlabel(\"K Values\")\n",
    "plt.ylabel(\"Accuracy Score\")"
   ]
  },
  {
   "cell_type": "code",
   "execution_count": 29,
   "id": "949af32d",
   "metadata": {
    "execution": {
     "iopub.execute_input": "2024-11-05T15:09:55.165436Z",
     "iopub.status.busy": "2024-11-05T15:09:55.164869Z",
     "iopub.status.idle": "2024-11-05T15:09:55.465169Z",
     "shell.execute_reply": "2024-11-05T15:09:55.464288Z"
    },
    "papermill": {
     "duration": 0.327473,
     "end_time": "2024-11-05T15:09:55.467430",
     "exception": false,
     "start_time": "2024-11-05T15:09:55.139957",
     "status": "completed"
    },
    "tags": []
   },
   "outputs": [
    {
     "data": {
      "image/png": "[encoded data removed]",
      "text/plain": [
       "<Figure size 800x600 with 2 Axes>"
      ]
     },
     "metadata": {},
     "output_type": "display_data"
    }
   ],
   "source": [
    "# Plot confusion matrix\n",
    "cm = confusion_matrix(y_test,y_pred)\n",
    "\n",
    "plt.figure(figsize=(8, 6))\n",
    "sns.heatmap(cm, annot=True, fmt=\"d\", cmap=\"Blues\")\n",
    "plt.xlabel('Predictions')\n",
    "plt.ylabel('True Values')\n",
    "plt.title('Confusion Matrix')\n",
    "plt.show()"
   ]
  },
  {
   "cell_type": "markdown",
   "id": "d317c49e",
   "metadata": {
    "papermill": {
     "duration": 0.02422,
     "end_time": "2024-11-05T15:09:55.516712",
     "exception": false,
     "start_time": "2024-11-05T15:09:55.492492",
     "status": "completed"
    },
    "tags": []
   },
   "source": [
    "## 4. GridsearshCV"
   ]
  },
  {
   "cell_type": "markdown",
   "id": "0e9f4001",
   "metadata": {
    "papermill": {
     "duration": 0.024112,
     "end_time": "2024-11-05T15:09:55.565297",
     "exception": false,
     "start_time": "2024-11-05T15:09:55.541185",
     "status": "completed"
    },
    "tags": []
   },
   "source": [
    "GridsearchCV\n",
    "\n",
    "* Using grid search with cross validation, find a decision tree that performs well on the test data set. Use a different variable name for this decision tree model than in question 3 so that both can be used in question 6.\n",
    "* Determine the number of nodes and the depth of this tree.\n",
    "* Measure the errors on the training and test sets as before and compare them to those from the tree in question 3."
   ]
  },
  {
   "cell_type": "code",
   "execution_count": 30,
   "id": "cc7c69f5",
   "metadata": {
    "execution": {
     "iopub.execute_input": "2024-11-05T15:09:55.615892Z",
     "iopub.status.busy": "2024-11-05T15:09:55.615554Z",
     "iopub.status.idle": "2024-11-05T15:32:13.017913Z",
     "shell.execute_reply": "2024-11-05T15:32:13.016632Z"
    },
    "papermill": {
     "duration": 1337.431132,
     "end_time": "2024-11-05T15:32:13.020853",
     "exception": false,
     "start_time": "2024-11-05T15:09:55.589721",
     "status": "completed"
    },
    "tags": []
   },
   "outputs": [],
   "source": [
    "from sklearn.model_selection import GridSearchCV\n",
    "\n",
    "param_grid = {'max_depth':range(1, dt.tree_.max_depth+1, 2),\n",
    "              'max_features': range(1, len(dt.feature_importances_)+1)}\n",
    "\n",
    "GR = GridSearchCV(DecisionTreeClassifier(random_state=42),\n",
    "                  param_grid=param_grid,\n",
    "                  scoring='accuracy',\n",
    "                  n_jobs=-1)\n",
    "\n",
    "GR = GR.fit(X_train, y_train)"
   ]
  },
  {
   "cell_type": "markdown",
   "id": "b9b1b96b",
   "metadata": {
    "papermill": {
     "duration": 0.025859,
     "end_time": "2024-11-05T15:32:13.074854",
     "exception": false,
     "start_time": "2024-11-05T15:32:13.048995",
     "status": "completed"
    },
    "tags": []
   },
   "source": [
    "The number of nodes and the maximum depth of the tree."
   ]
  },
  {
   "cell_type": "code",
   "execution_count": 31,
   "id": "d5cc4207",
   "metadata": {
    "execution": {
     "iopub.execute_input": "2024-11-05T15:32:13.130901Z",
     "iopub.status.busy": "2024-11-05T15:32:13.130475Z",
     "iopub.status.idle": "2024-11-05T15:32:13.138042Z",
     "shell.execute_reply": "2024-11-05T15:32:13.137052Z"
    },
    "papermill": {
     "duration": 0.038528,
     "end_time": "2024-11-05T15:32:13.140280",
     "exception": false,
     "start_time": "2024-11-05T15:32:13.101752",
     "status": "completed"
    },
    "tags": []
   },
   "outputs": [
    {
     "data": {
      "text/plain": [
       "(123, 9)"
      ]
     },
     "execution_count": 31,
     "metadata": {},
     "output_type": "execute_result"
    }
   ],
   "source": [
    "GR.best_estimator_.tree_.node_count, GR.best_estimator_.tree_.max_depth"
   ]
  },
  {
   "cell_type": "markdown",
   "id": "00e3c712",
   "metadata": {
    "papermill": {
     "duration": 0.026488,
     "end_time": "2024-11-05T15:32:13.193759",
     "exception": false,
     "start_time": "2024-11-05T15:32:13.167271",
     "status": "completed"
    },
    "tags": []
   },
   "source": [
    "These test errors are a little better than the previous ones. So it would seem the previous example overfit the data, but only slightly so."
   ]
  },
  {
   "cell_type": "code",
   "execution_count": 32,
   "id": "d20312fe",
   "metadata": {
    "execution": {
     "iopub.execute_input": "2024-11-05T15:32:13.249229Z",
     "iopub.status.busy": "2024-11-05T15:32:13.248855Z",
     "iopub.status.idle": "2024-11-05T15:32:13.860356Z",
     "shell.execute_reply": "2024-11-05T15:32:13.859219Z"
    },
    "papermill": {
     "duration": 0.642338,
     "end_time": "2024-11-05T15:32:13.863060",
     "exception": false,
     "start_time": "2024-11-05T15:32:13.220722",
     "status": "completed"
    },
    "tags": []
   },
   "outputs": [],
   "source": [
    "y_train_pred_gr = GR.predict(X_train)\n",
    "y_test_pred_gr = GR.predict(X_test)\n",
    "\n",
    "train_test_gr_error = pd.concat([measure_error(y_train, y_train_pred_gr, 'train'),\n",
    "                                 measure_error(y_test, y_test_pred_gr, 'test')],\n",
    "                                axis=1)"
   ]
  },
  {
   "cell_type": "code",
   "execution_count": 33,
   "id": "de74d63c",
   "metadata": {
    "execution": {
     "iopub.execute_input": "2024-11-05T15:32:13.979544Z",
     "iopub.status.busy": "2024-11-05T15:32:13.978447Z",
     "iopub.status.idle": "2024-11-05T15:32:13.992464Z",
     "shell.execute_reply": "2024-11-05T15:32:13.991227Z"
    },
    "papermill": {
     "duration": 0.056492,
     "end_time": "2024-11-05T15:32:13.995068",
     "exception": false,
     "start_time": "2024-11-05T15:32:13.938576",
     "status": "completed"
    },
    "tags": []
   },
   "outputs": [
    {
     "data": {
      "text/html": [
       "<div>\n",
       "<style scoped>\n",
       "    .dataframe tbody tr th:only-of-type {\n",
       "        vertical-align: middle;\n",
       "    }\n",
       "\n",
       "    .dataframe tbody tr th {\n",
       "        vertical-align: top;\n",
       "    }\n",
       "\n",
       "    .dataframe thead th {\n",
       "        text-align: right;\n",
       "    }\n",
       "</style>\n",
       "<table border=\"1\" class=\"dataframe\">\n",
       "  <thead>\n",
       "    <tr style=\"text-align: right;\">\n",
       "      <th></th>\n",
       "      <th>train</th>\n",
       "      <th>test</th>\n",
       "    </tr>\n",
       "  </thead>\n",
       "  <tbody>\n",
       "    <tr>\n",
       "      <th>accuracy</th>\n",
       "      <td>0.999774</td>\n",
       "      <td>0.999239</td>\n",
       "    </tr>\n",
       "    <tr>\n",
       "      <th>precision</th>\n",
       "      <td>1.000000</td>\n",
       "      <td>0.854701</td>\n",
       "    </tr>\n",
       "    <tr>\n",
       "      <th>recall</th>\n",
       "      <td>0.869186</td>\n",
       "      <td>0.675676</td>\n",
       "    </tr>\n",
       "    <tr>\n",
       "      <th>f1</th>\n",
       "      <td>0.930016</td>\n",
       "      <td>0.754717</td>\n",
       "    </tr>\n",
       "  </tbody>\n",
       "</table>\n",
       "</div>"
      ],
      "text/plain": [
       "              train      test\n",
       "accuracy   0.999774  0.999239\n",
       "precision  1.000000  0.854701\n",
       "recall     0.869186  0.675676\n",
       "f1         0.930016  0.754717"
      ]
     },
     "execution_count": 33,
     "metadata": {},
     "output_type": "execute_result"
    }
   ],
   "source": [
    "train_test_gr_error"
   ]
  },
  {
   "cell_type": "markdown",
   "id": "7a42bb3e",
   "metadata": {
    "papermill": {
     "duration": 0.030999,
     "end_time": "2024-11-05T15:32:14.055638",
     "exception": false,
     "start_time": "2024-11-05T15:32:14.024639",
     "status": "completed"
    },
    "tags": []
   },
   "source": [
    "Classification raport"
   ]
  },
  {
   "cell_type": "markdown",
   "id": "2cc480b3",
   "metadata": {
    "papermill": {
     "duration": 0.027126,
     "end_time": "2024-11-05T15:32:14.109941",
     "exception": false,
     "start_time": "2024-11-05T15:32:14.082815",
     "status": "completed"
    },
    "tags": []
   },
   "source": [
    "## 5. Adabosster\n"
   ]
  },
  {
   "cell_type": "code",
   "execution_count": 34,
   "id": "77d79544",
   "metadata": {
    "execution": {
     "iopub.execute_input": "2024-11-05T15:32:14.172858Z",
     "iopub.status.busy": "2024-11-05T15:32:14.171894Z",
     "iopub.status.idle": "2024-11-05T15:57:42.438217Z",
     "shell.execute_reply": "2024-11-05T15:57:42.437300Z"
    },
    "papermill": {
     "duration": 1528.303157,
     "end_time": "2024-11-05T15:57:42.440766",
     "exception": false,
     "start_time": "2024-11-05T15:32:14.137609",
     "status": "completed"
    },
    "tags": []
   },
   "outputs": [],
   "source": [
    "from sklearn.ensemble import AdaBoostClassifier\n",
    "from sklearn.tree import DecisionTreeClassifier\n",
    "\n",
    "ABC = AdaBoostClassifier(DecisionTreeClassifier(max_depth=1))\n",
    "\n",
    "param_grid = {'n_estimators': [100, 150, 200],\n",
    "              'learning_rate': [0.01, 0.001]}\n",
    "\n",
    "GV_ABC = GridSearchCV(ABC,\n",
    "                      param_grid=param_grid, \n",
    "                      scoring='accuracy',\n",
    "                      n_jobs=-1)\n",
    "\n",
    "GV_ABC = GV_ABC.fit(X_train, y_train)"
   ]
  },
  {
   "cell_type": "code",
   "execution_count": 35,
   "id": "479e50af",
   "metadata": {
    "execution": {
     "iopub.execute_input": "2024-11-05T15:57:42.496342Z",
     "iopub.status.busy": "2024-11-05T15:57:42.495469Z",
     "iopub.status.idle": "2024-11-05T15:57:42.512356Z",
     "shell.execute_reply": "2024-11-05T15:57:42.511313Z"
    },
    "papermill": {
     "duration": 0.047641,
     "end_time": "2024-11-05T15:57:42.515131",
     "exception": false,
     "start_time": "2024-11-05T15:57:42.467490",
     "status": "completed"
    },
    "tags": []
   },
   "outputs": [
    {
     "data": {
      "text/html": [
       "<style>#sk-container-id-1 {color: black;background-color: white;}#sk-container-id-1 pre{padding: 0;}#sk-container-id-1 div.sk-toggleable {background-color: white;}#sk-container-id-1 label.sk-toggleable__label {cursor: pointer;display: block;width: 100%;margin-bottom: 0;padding: 0.3em;box-sizing: border-box;text-align: center;}#sk-container-id-1 label.sk-toggleable__label-arrow:before {content: \"▸\";float: left;margin-right: 0.25em;color: #696969;}#sk-container-id-1 label.sk-toggleable__label-arrow:hover:before {color: black;}#sk-container-id-1 div.sk-estimator:hover label.sk-toggleable__label-arrow:before {color: black;}#sk-container-id-1 div.sk-toggleable__content {max-height: 0;max-width: 0;overflow: hidden;text-align: left;background-color: #f0f8ff;}#sk-container-id-1 div.sk-toggleable__content pre {margin: 0.2em;color: black;border-radius: 0.25em;background-color: #f0f8ff;}#sk-container-id-1 input.sk-toggleable__control:checked~div.sk-toggleable__content {max-height: 200px;max-width: 100%;overflow: auto;}#sk-container-id-1 input.sk-toggleable__control:checked~label.sk-toggleable__label-arrow:before {content: \"▾\";}#sk-container-id-1 div.sk-estimator input.sk-toggleable__control:checked~label.sk-toggleable__label {background-color: #d4ebff;}#sk-container-id-1 div.sk-label input.sk-toggleable__control:checked~label.sk-toggleable__label {background-color: #d4ebff;}#sk-container-id-1 input.sk-hidden--visually {border: 0;clip: rect(1px 1px 1px 1px);clip: rect(1px, 1px, 1px, 1px);height: 1px;margin: -1px;overflow: hidden;padding: 0;position: absolute;width: 1px;}#sk-container-id-1 div.sk-estimator {font-family: monospace;background-color: #f0f8ff;border: 1px dotted black;border-radius: 0.25em;box-sizing: border-box;margin-bottom: 0.5em;}#sk-container-id-1 div.sk-estimator:hover {background-color: #d4ebff;}#sk-container-id-1 div.sk-parallel-item::after {content: \"\";width: 100%;border-bottom: 1px solid gray;flex-grow: 1;}#sk-container-id-1 div.sk-label:hover label.sk-toggleable__label {background-color: #d4ebff;}#sk-container-id-1 div.sk-serial::before {content: \"\";position: absolute;border-left: 1px solid gray;box-sizing: border-box;top: 0;bottom: 0;left: 50%;z-index: 0;}#sk-container-id-1 div.sk-serial {display: flex;flex-direction: column;align-items: center;background-color: white;padding-right: 0.2em;padding-left: 0.2em;position: relative;}#sk-container-id-1 div.sk-item {position: relative;z-index: 1;}#sk-container-id-1 div.sk-parallel {display: flex;align-items: stretch;justify-content: center;background-color: white;position: relative;}#sk-container-id-1 div.sk-item::before, #sk-container-id-1 div.sk-parallel-item::before {content: \"\";position: absolute;border-left: 1px solid gray;box-sizing: border-box;top: 0;bottom: 0;left: 50%;z-index: -1;}#sk-container-id-1 div.sk-parallel-item {display: flex;flex-direction: column;z-index: 1;position: relative;background-color: white;}#sk-container-id-1 div.sk-parallel-item:first-child::after {align-self: flex-end;width: 50%;}#sk-container-id-1 div.sk-parallel-item:last-child::after {align-self: flex-start;width: 50%;}#sk-container-id-1 div.sk-parallel-item:only-child::after {width: 0;}#sk-container-id-1 div.sk-dashed-wrapped {border: 1px dashed gray;margin: 0 0.4em 0.5em 0.4em;box-sizing: border-box;padding-bottom: 0.4em;background-color: white;}#sk-container-id-1 div.sk-label label {font-family: monospace;font-weight: bold;display: inline-block;line-height: 1.2em;}#sk-container-id-1 div.sk-label-container {text-align: center;}#sk-container-id-1 div.sk-container {/* jupyter's `normalize.less` sets `[hidden] { display: none; }` but bootstrap.min.css set `[hidden] { display: none !important; }` so we also need the `!important` here to be able to override the default hidden behavior on the sphinx rendered scikit-learn.org. See: https://github.com/scikit-learn/scikit-learn/issues/21755 */display: inline-block !important;position: relative;}#sk-container-id-1 div.sk-text-repr-fallback {display: none;}</style><div id=\"sk-container-id-1\" class=\"sk-top-container\"><div class=\"sk-text-repr-fallback\"><pre>AdaBoostClassifier(estimator=DecisionTreeClassifier(max_depth=1),\n",
       "                   learning_rate=0.01, n_estimators=100)</pre><b>In a Jupyter environment, please rerun this cell to show the HTML representation or trust the notebook. <br />On GitHub, the HTML representation is unable to render, please try loading this page with nbviewer.org.</b></div><div class=\"sk-container\" hidden><div class=\"sk-item sk-dashed-wrapped\"><div class=\"sk-label-container\"><div class=\"sk-label sk-toggleable\"><input class=\"sk-toggleable__control sk-hidden--visually\" id=\"sk-estimator-id-1\" type=\"checkbox\" ><label for=\"sk-estimator-id-1\" class=\"sk-toggleable__label sk-toggleable__label-arrow\">AdaBoostClassifier</label><div class=\"sk-toggleable__content\"><pre>AdaBoostClassifier(estimator=DecisionTreeClassifier(max_depth=1),\n",
       "                   learning_rate=0.01, n_estimators=100)</pre></div></div></div><div class=\"sk-parallel\"><div class=\"sk-parallel-item\"><div class=\"sk-item\"><div class=\"sk-label-container\"><div class=\"sk-label sk-toggleable\"><input class=\"sk-toggleable__control sk-hidden--visually\" id=\"sk-estimator-id-2\" type=\"checkbox\" ><label for=\"sk-estimator-id-2\" class=\"sk-toggleable__label sk-toggleable__label-arrow\">estimator: DecisionTreeClassifier</label><div class=\"sk-toggleable__content\"><pre>DecisionTreeClassifier(max_depth=1)</pre></div></div></div><div class=\"sk-serial\"><div class=\"sk-item\"><div class=\"sk-estimator sk-toggleable\"><input class=\"sk-toggleable__control sk-hidden--visually\" id=\"sk-estimator-id-3\" type=\"checkbox\" ><label for=\"sk-estimator-id-3\" class=\"sk-toggleable__label sk-toggleable__label-arrow\">DecisionTreeClassifier</label><div class=\"sk-toggleable__content\"><pre>DecisionTreeClassifier(max_depth=1)</pre></div></div></div></div></div></div></div></div></div></div>"
      ],
      "text/plain": [
       "AdaBoostClassifier(estimator=DecisionTreeClassifier(max_depth=1),\n",
       "                   learning_rate=0.01, n_estimators=100)"
      ]
     },
     "execution_count": 35,
     "metadata": {},
     "output_type": "execute_result"
    }
   ],
   "source": [
    "# The best model\n",
    "GV_ABC.best_estimator_"
   ]
  },
  {
   "cell_type": "markdown",
   "id": "03c8b1c3",
   "metadata": {
    "papermill": {
     "duration": 0.026301,
     "end_time": "2024-11-05T15:57:42.575733",
     "exception": false,
     "start_time": "2024-11-05T15:57:42.549432",
     "status": "completed"
    },
    "tags": []
   },
   "source": [
    "The error metrics. Note that the issues with class 1 and 2 appear to have become more problematic. Also note other issues for classes 3 - 5. AdaBoost is very sensitive to outliers, so that could be the problem here."
   ]
  },
  {
   "cell_type": "code",
   "execution_count": 36,
   "id": "b943f39a",
   "metadata": {
    "execution": {
     "iopub.execute_input": "2024-11-05T15:57:42.637235Z",
     "iopub.status.busy": "2024-11-05T15:57:42.636841Z",
     "iopub.status.idle": "2024-11-05T15:57:43.748815Z",
     "shell.execute_reply": "2024-11-05T15:57:43.747831Z"
    },
    "papermill": {
     "duration": 1.148771,
     "end_time": "2024-11-05T15:57:43.751093",
     "exception": false,
     "start_time": "2024-11-05T15:57:42.602322",
     "status": "completed"
    },
    "tags": []
   },
   "outputs": [
    {
     "name": "stdout",
     "output_type": "stream",
     "text": [
      "              precision    recall  f1-score   support\n",
      "\n",
      "           0       1.00      1.00      1.00     85349\n",
      "           1       0.54      0.85      0.66        94\n",
      "\n",
      "    accuracy                           1.00     85443\n",
      "   macro avg       0.77      0.93      0.83     85443\n",
      "weighted avg       1.00      1.00      1.00     85443\n",
      "\n"
     ]
    }
   ],
   "source": [
    "y_pred = GV_ABC.predict(X_test)\n",
    "print(classification_report(y_pred, y_test))"
   ]
  },
  {
   "cell_type": "code",
   "execution_count": 37,
   "id": "55e7a218",
   "metadata": {
    "execution": {
     "iopub.execute_input": "2024-11-05T15:57:43.804980Z",
     "iopub.status.busy": "2024-11-05T15:57:43.804245Z",
     "iopub.status.idle": "2024-11-05T15:57:44.092104Z",
     "shell.execute_reply": "2024-11-05T15:57:44.091071Z"
    },
    "papermill": {
     "duration": 0.316995,
     "end_time": "2024-11-05T15:57:44.094583",
     "exception": false,
     "start_time": "2024-11-05T15:57:43.777588",
     "status": "completed"
    },
    "tags": []
   },
   "outputs": [
    {
     "data": {
      "image/png": "[encoded data removed]",
      "text/plain": [
       "<Figure size 640x480 with 2 Axes>"
      ]
     },
     "metadata": {},
     "output_type": "display_data"
    }
   ],
   "source": [
    "cm = confusion_matrix(y_test, y_pred)\n",
    "sns.heatmap(cm, annot=True, fmt='g', cmap='Blues')\n",
    "plt.show()"
   ]
  },
  {
   "cell_type": "markdown",
   "id": "879d3c7a",
   "metadata": {
    "papermill": {
     "duration": 0.030225,
     "end_time": "2024-11-05T15:57:44.156242",
     "exception": false,
     "start_time": "2024-11-05T15:57:44.126017",
     "status": "completed"
    },
    "tags": []
   },
   "source": [
    "## 6. XBOOST"
   ]
  },
  {
   "cell_type": "code",
   "execution_count": 38,
   "id": "c43e3bfe",
   "metadata": {
    "execution": {
     "iopub.execute_input": "2024-11-05T15:57:44.219006Z",
     "iopub.status.busy": "2024-11-05T15:57:44.218363Z",
     "iopub.status.idle": "2024-11-05T15:57:45.889662Z",
     "shell.execute_reply": "2024-11-05T15:57:45.888549Z"
    },
    "papermill": {
     "duration": 1.704936,
     "end_time": "2024-11-05T15:57:45.891768",
     "exception": false,
     "start_time": "2024-11-05T15:57:44.186832",
     "status": "completed"
    },
    "tags": []
   },
   "outputs": [
    {
     "name": "stdout",
     "output_type": "stream",
     "text": [
      "Accuracy: 0.9994967405170698\n",
      "F1_score: 0.8365019011406843\n",
      "              precision    recall  f1-score   support\n",
      "\n",
      "           0       1.00      1.00      1.00     85295\n",
      "           1       0.96      0.74      0.84       148\n",
      "\n",
      "    accuracy                           1.00     85443\n",
      "   macro avg       0.98      0.87      0.92     85443\n",
      "weighted avg       1.00      1.00      1.00     85443\n",
      "\n"
     ]
    }
   ],
   "source": [
    "from xgboost import XGBClassifier\n",
    "\n",
    "XGB = XGBClassifier(n_estimators=50, max_depth=5, learning_rate=0.1, objective='binary:logistic')\n",
    "#Fit the model\n",
    "XGB.fit(X_train, y_train)\n",
    "pred_xgb = XGB.predict(X_test)\n",
    "\n",
    "from sklearn.metrics import accuracy_score\n",
    "accuracy = accuracy_score(y_test, pred_xgb)\n",
    "F1_score = f1_score(y_test, pred_xgb)\n",
    "print(f'Accuracy: {accuracy}')\n",
    "print(f'F1_score: {F1_score}')\n",
    "print(classification_report(y_test, pred_xgb))"
   ]
  },
  {
   "cell_type": "code",
   "execution_count": 39,
   "id": "4dd9e914",
   "metadata": {
    "execution": {
     "iopub.execute_input": "2024-11-05T15:57:45.945954Z",
     "iopub.status.busy": "2024-11-05T15:57:45.945642Z",
     "iopub.status.idle": "2024-11-05T15:57:46.222549Z",
     "shell.execute_reply": "2024-11-05T15:57:46.221639Z"
    },
    "papermill": {
     "duration": 0.30608,
     "end_time": "2024-11-05T15:57:46.224458",
     "exception": false,
     "start_time": "2024-11-05T15:57:45.918378",
     "status": "completed"
    },
    "tags": []
   },
   "outputs": [
    {
     "data": {
      "image/png": "[encoded data removed]",
      "text/plain": [
       "<Figure size 640x480 with 2 Axes>"
      ]
     },
     "metadata": {},
     "output_type": "display_data"
    }
   ],
   "source": [
    "cm = confusion_matrix(y_test, pred_xgb)\n",
    "sns.heatmap(cm, annot=True, fmt='g', cmap='Blues')\n",
    "plt.show()\n"
   ]
  },
  {
   "cell_type": "markdown",
   "id": "540467d1",
   "metadata": {
    "papermill": {
     "duration": 0.026276,
     "end_time": "2024-11-05T15:57:46.277668",
     "exception": false,
     "start_time": "2024-11-05T15:57:46.251392",
     "status": "completed"
    },
    "tags": []
   },
   "source": [
    "## 7.Stacking model - Voting Classifier"
   ]
  },
  {
   "cell_type": "code",
   "execution_count": 40,
   "id": "a4636952",
   "metadata": {
    "execution": {
     "iopub.execute_input": "2024-11-05T15:57:46.332534Z",
     "iopub.status.busy": "2024-11-05T15:57:46.331751Z",
     "iopub.status.idle": "2024-11-05T16:47:58.642390Z",
     "shell.execute_reply": "2024-11-05T16:47:58.641191Z"
    },
    "papermill": {
     "duration": 3012.340828,
     "end_time": "2024-11-05T16:47:58.645135",
     "exception": false,
     "start_time": "2024-11-05T15:57:46.304307",
     "status": "completed"
    },
    "tags": []
   },
   "outputs": [],
   "source": [
    "from sklearn.ensemble import VotingClassifier\n",
    "\n",
    "# The combined model--logistic regression and gradient boosted trees\n",
    "estimators = [('LR', LR), ('LR_L2', LR_L2), ('GR', GR), ('dt', dt), ('GV_ABC', GV_ABC), ('Knn', knn), ('XGB', XGB)]\n",
    "\n",
    "# this model using an additional hold-out data set and/or with cross validation\n",
    "VC = VotingClassifier(estimators, voting='soft')\n",
    "VC = VC.fit(X_train, y_train)"
   ]
  },
  {
   "cell_type": "markdown",
   "id": "3970437a",
   "metadata": {
    "papermill": {
     "duration": 0.026842,
     "end_time": "2024-11-05T16:47:58.701024",
     "exception": false,
     "start_time": "2024-11-05T16:47:58.674182",
     "status": "completed"
    },
    "tags": []
   },
   "source": [
    "Performance for the voting classifier should improve relative to either logistic regression or gradient boosted trees alone. However, the fact that logistic regression does almost as well as gradient boosted trees is an important reminder to try the simplest model first. In some cases, its performance will be good enough.\n"
   ]
  },
  {
   "cell_type": "code",
   "execution_count": 41,
   "id": "1ac53358",
   "metadata": {
    "execution": {
     "iopub.execute_input": "2024-11-05T16:47:58.756303Z",
     "iopub.status.busy": "2024-11-05T16:47:58.755191Z",
     "iopub.status.idle": "2024-11-05T16:47:58.768367Z",
     "shell.execute_reply": "2024-11-05T16:47:58.767491Z"
    },
    "papermill": {
     "duration": 0.042861,
     "end_time": "2024-11-05T16:47:58.770299",
     "exception": false,
     "start_time": "2024-11-05T16:47:58.727438",
     "status": "completed"
    },
    "tags": []
   },
   "outputs": [
    {
     "data": {
      "text/plain": [
       "[LogisticRegressionCV(cv=4, penalty='l1', solver='liblinear'),\n",
       " LogisticRegression(max_iter=500, solver='saga'),\n",
       " GridSearchCV(estimator=DecisionTreeClassifier(random_state=42), n_jobs=-1,\n",
       "              param_grid={'max_depth': range(1, 16, 2),\n",
       "                          'max_features': range(1, 31)},\n",
       "              scoring='accuracy'),\n",
       " DecisionTreeClassifier(max_depth=15, min_samples_leaf=5, random_state=42),\n",
       " GridSearchCV(estimator=AdaBoostClassifier(estimator=DecisionTreeClassifier(max_depth=1)),\n",
       "              n_jobs=-1,\n",
       "              param_grid={'learning_rate': [0.01, 0.001],\n",
       "                          'n_estimators': [100, 150, 200]},\n",
       "              scoring='accuracy'),\n",
       " KNeighborsClassifier(n_neighbors=30),\n",
       " XGBClassifier(base_score=None, booster=None, callbacks=None,\n",
       "               colsample_bylevel=None, colsample_bynode=None,\n",
       "               colsample_bytree=None, device=None, early_stopping_rounds=None,\n",
       "               enable_categorical=False, eval_metric=None, feature_types=None,\n",
       "               gamma=None, grow_policy=None, importance_type=None,\n",
       "               interaction_constraints=None, learning_rate=0.1, max_bin=None,\n",
       "               max_cat_threshold=None, max_cat_to_onehot=None,\n",
       "               max_delta_step=None, max_depth=5, max_leaves=None,\n",
       "               min_child_weight=None, missing=nan, monotone_constraints=None,\n",
       "               multi_strategy=None, n_estimators=50, n_jobs=None,\n",
       "               num_parallel_tree=None, random_state=None, ...)]"
      ]
     },
     "execution_count": 41,
     "metadata": {},
     "output_type": "execute_result"
    }
   ],
   "source": [
    "VC.estimators_"
   ]
  },
  {
   "cell_type": "markdown",
   "id": "6115d769",
   "metadata": {
    "papermill": {
     "duration": 0.026369,
     "end_time": "2024-11-05T16:47:58.823530",
     "exception": false,
     "start_time": "2024-11-05T16:47:58.797161",
     "status": "completed"
    },
    "tags": []
   },
   "source": [
    "Predict"
   ]
  },
  {
   "cell_type": "code",
   "execution_count": 42,
   "id": "beab7f27",
   "metadata": {
    "execution": {
     "iopub.execute_input": "2024-11-05T16:47:58.877909Z",
     "iopub.status.busy": "2024-11-05T16:47:58.877606Z",
     "iopub.status.idle": "2024-11-05T16:48:37.408124Z",
     "shell.execute_reply": "2024-11-05T16:48:37.407279Z"
    },
    "papermill": {
     "duration": 38.587034,
     "end_time": "2024-11-05T16:48:37.437093",
     "exception": false,
     "start_time": "2024-11-05T16:47:58.850059",
     "status": "completed"
    },
    "tags": []
   },
   "outputs": [
    {
     "name": "stdout",
     "output_type": "stream",
     "text": [
      "              precision    recall  f1-score   support\n",
      "\n",
      "           0       1.00      1.00      1.00     85295\n",
      "           1       0.99      0.62      0.76       148\n",
      "\n",
      "    accuracy                           1.00     85443\n",
      "   macro avg       0.99      0.81      0.88     85443\n",
      "weighted avg       1.00      1.00      1.00     85443\n",
      "\n",
      "Accuracy: 0.9993328885923949\n",
      "F1_score: 0.7634854771784233\n"
     ]
    }
   ],
   "source": [
    "y_pred = VC.predict(X_test)\n",
    "print(classification_report(y_test, y_pred))\n",
    "#EVALUATION SCORE\n",
    "accuracy = accuracy_score(y_test, y_pred)\n",
    "F1_score = f1_score(y_test, y_pred)\n",
    "print(f'Accuracy: {accuracy}')\n",
    "print(f'F1_score: {F1_score}')"
   ]
  },
  {
   "cell_type": "code",
   "execution_count": 43,
   "id": "d6b42e85",
   "metadata": {
    "execution": {
     "iopub.execute_input": "2024-11-05T16:48:37.492186Z",
     "iopub.status.busy": "2024-11-05T16:48:37.491826Z",
     "iopub.status.idle": "2024-11-05T16:48:37.769493Z",
     "shell.execute_reply": "2024-11-05T16:48:37.768594Z"
    },
    "papermill": {
     "duration": 0.307469,
     "end_time": "2024-11-05T16:48:37.771676",
     "exception": false,
     "start_time": "2024-11-05T16:48:37.464207",
     "status": "completed"
    },
    "tags": []
   },
   "outputs": [
    {
     "data": {
      "image/png": "[encoded data removed]",
      "text/plain": [
       "<Figure size 640x480 with 2 Axes>"
      ]
     },
     "metadata": {},
     "output_type": "display_data"
    }
   ],
   "source": [
    "cm = confusion_matrix(y_test, y_pred)\n",
    "sns.heatmap(cm, annot=True, fmt='g', cmap='Blues')\n",
    "plt.show()\n",
    "#sns.set_context('talk')\n",
    "#cm = confusion_matrix(y_test, y_pred)\n",
    "#ax = sns.heatmap(cm, annot=True, fmt='d')\n"
   ]
  },
  {
   "cell_type": "markdown",
   "id": "5698406d",
   "metadata": {
    "papermill": {
     "duration": 0.026976,
     "end_time": "2024-11-05T16:48:37.826003",
     "exception": false,
     "start_time": "2024-11-05T16:48:37.799027",
     "status": "completed"
    },
    "tags": []
   },
   "source": [
    "Plot Roc curve"
   ]
  },
  {
   "cell_type": "code",
   "execution_count": 44,
   "id": "8ca36933",
   "metadata": {
    "execution": {
     "iopub.execute_input": "2024-11-05T16:48:37.881515Z",
     "iopub.status.busy": "2024-11-05T16:48:37.881151Z",
     "iopub.status.idle": "2024-11-05T16:49:16.250689Z",
     "shell.execute_reply": "2024-11-05T16:49:16.249673Z"
    },
    "papermill": {
     "duration": 38.427701,
     "end_time": "2024-11-05T16:49:16.280954",
     "exception": false,
     "start_time": "2024-11-05T16:48:37.853253",
     "status": "completed"
    },
    "tags": []
   },
   "outputs": [
    {
     "data": {
      "image/png": "[encoded data removed]",
      "text/plain": [
       "<Figure size 1000x600 with 1 Axes>"
      ]
     },
     "metadata": {},
     "output_type": "display_data"
    }
   ],
   "source": [
    "import matplotlib.pyplot as plt\n",
    "from sklearn.metrics import roc_curve, roc_auc_score\n",
    "\n",
    "# Get predicted probabilities for the positive class\n",
    "y_scores = VC.predict_proba(X_test)[:, 1]  # Probability of the positive class\n",
    "\n",
    "# Calculate FPR, TPR, and thresholds\n",
    "fpr, tpr, thresholds = roc_curve(y_test, y_scores)\n",
    "\n",
    "# Calculate AUC\n",
    "roc_auc = roc_auc_score(y_test, y_scores)\n",
    "\n",
    "# Plot ROC Curve\n",
    "plt.figure(figsize=(10, 6))\n",
    "plt.plot(fpr, tpr, color='blue', label='ROC curve (area = {:.2f})'.format(roc_auc))\n",
    "plt.plot([0, 1], [0, 1], color='red', linestyle='--')  # Diagonal line\n",
    "plt.xlim([0.0, 1.0])\n",
    "plt.ylim([0.0, 1.05])\n",
    "plt.xlabel('False Positive Rate')\n",
    "plt.ylabel('True Positive Rate')\n",
    "plt.title('Receiver Operating Characteristic (ROC) Curve')\n",
    "plt.legend(loc='lower right')\n",
    "plt.grid()\n",
    "plt.show()"
   ]
  },
  {
   "cell_type": "markdown",
   "id": "5c31eec8",
   "metadata": {
    "papermill": {
     "duration": 0.027388,
     "end_time": "2024-11-05T16:49:16.336060",
     "exception": false,
     "start_time": "2024-11-05T16:49:16.308672",
     "status": "completed"
    },
    "tags": []
   },
   "source": [
    "### Model evaluation"
   ]
  },
  {
   "cell_type": "code",
   "execution_count": 45,
   "id": "6f6de336",
   "metadata": {
    "execution": {
     "iopub.execute_input": "2024-11-05T16:49:16.393420Z",
     "iopub.status.busy": "2024-11-05T16:49:16.392646Z",
     "iopub.status.idle": "2024-11-05T16:52:45.379096Z",
     "shell.execute_reply": "2024-11-05T16:52:45.377943Z"
    },
    "papermill": {
     "duration": 209.048996,
     "end_time": "2024-11-05T16:52:45.412571",
     "exception": false,
     "start_time": "2024-11-05T16:49:16.363575",
     "status": "completed"
    },
    "tags": []
   },
   "outputs": [
    {
     "name": "stdout",
     "output_type": "stream",
     "text": [
      "                        accuracy  f1_score\n",
      "Logistic Regression     0.999064  0.998986\n",
      "XGBoost                 0.999485  0.999456\n",
      "GridSearchCV            0.999181  0.999166\n",
      "Logistic Regression CV  0.999029  0.998923\n",
      "KNN                     0.998303  0.997489\n",
      "Voting Classifier       0.999415  0.999355\n",
      "AdaBoost                0.999181  0.999163\n"
     ]
    }
   ],
   "source": [
    "# Define parameter grid for GridSearchCV\n",
    "param_grid = {\n",
    "    'max_depth': [1, 2, 3],\n",
    "    'min_samples_split': [2, 5, 10]\n",
    "}\n",
    "\n",
    "# Define estimators for VotingClassifier\n",
    "estimators = [\n",
    "    ('logistic', LogisticRegression()),\n",
    "    ('knn', KNeighborsClassifier()),\n",
    "    ('xgboost', XGBClassifier(use_label_encoder=False, eval_metric='mlogloss')),\n",
    "]\n",
    "\n",
    "# Define models\n",
    "models = {\n",
    "    \"Logistic Regression\": LogisticRegression(max_iter=1000),\n",
    "    \"XGBoost\": XGBClassifier(use_label_encoder=False, eval_metric='mlogloss'),\n",
    "    \"GridSearchCV\": GridSearchCV(DecisionTreeClassifier(random_state=42),\n",
    "                                  param_grid=param_grid,\n",
    "                                  scoring='accuracy',\n",
    "                                  n_jobs=-1),\n",
    "    \"Logistic Regression CV\": LogisticRegressionCV(max_iter=1000),\n",
    "    \"KNN\": KNeighborsClassifier(),\n",
    "    \"Voting Classifier\": VotingClassifier(estimators, voting='soft'),\n",
    "    \"AdaBoost\": AdaBoostClassifier(DecisionTreeClassifier(max_depth=1))\n",
    "}\n",
    "\n",
    "# Train models and evaluate performance\n",
    "results = {}\n",
    "\n",
    "for model_name, model in models.items():\n",
    "    model.fit(X_train, y_train)\n",
    "    preds = model.predict(X_test)\n",
    "    acc = accuracy_score(y_test, preds)\n",
    "    f1 = f1_score(y_test, preds, average='weighted')  # Use 'weighted' for multi-class\n",
    "    results[model_name] = {'accuracy': acc, 'f1_score': f1}\n",
    "\n",
    "# Create a DataFrame for results\n",
    "results_df = pd.DataFrame(results).T\n",
    "print(results_df)"
   ]
  },
  {
   "cell_type": "markdown",
   "id": "9d460cf9",
   "metadata": {
    "papermill": {
     "duration": 0.027644,
     "end_time": "2024-11-05T16:52:45.468527",
     "exception": false,
     "start_time": "2024-11-05T16:52:45.440883",
     "status": "completed"
    },
    "tags": []
   },
   "source": [
    "### Please UPVOTE if you like this notebook"
   ]
  }
 ],
 "metadata": {
  "kaggle": {
   "accelerator": "nvidiaTeslaT4",
   "dataSources": [
    {
     "datasetId": 310,
     "sourceId": 23498,
     "sourceType": "datasetVersion"
    }
   ],
   "dockerImageVersionId": 30787,
   "isGpuEnabled": true,
   "isInternetEnabled": true,
   "language": "python",
   "sourceType": "notebook"
  },
  "kernelspec": {
   "display_name": "Python 3",
   "language": "python",
   "name": "python3"
  },
  "language_info": {
   "codemirror_mode": {
    "name": "ipython",
    "version": 3
   },
   "file_extension": ".py",
   "mimetype": "text/x-python",
   "name": "python",
   "nbconvert_exporter": "python",
   "pygments_lexer": "ipython3",
   "version": "3.10.14"
  },
  "papermill": {
   "default_parameters": {},
   "duration": 8103.6859,
   "end_time": "2024-11-05T16:52:48.115771",
   "environment_variables": {},
   "exception": null,
   "input_path": "__notebook__.ipynb",
   "output_path": "__notebook__.ipynb",
   "parameters": {},
   "start_time": "2024-11-05T14:37:44.429871",
   "version": "2.6.0"
  }
 },
 "nbformat": 4,
 "nbformat_minor": 5
}
